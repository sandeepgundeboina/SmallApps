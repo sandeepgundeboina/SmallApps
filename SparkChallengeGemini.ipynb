{
  "nbformat": 4,
  "nbformat_minor": 0,
  "metadata": {
    "colab": {
      "provenance": [],
      "mount_file_id": "1td5O62gEmXRQyDM2hY77mWNp8i2oi0Pf",
      "authorship_tag": "ABX9TyPgAosM3umMN47nCX5+IVr9",
      "include_colab_link": true
    },
    "kernelspec": {
      "name": "python3",
      "display_name": "Python 3"
    },
    "language_info": {
      "name": "python"
    }
  },
  "cells": [
    {
      "cell_type": "markdown",
      "metadata": {
        "id": "view-in-github",
        "colab_type": "text"
      },
      "source": [
        "<a href=\"https://colab.research.google.com/github/sandeepgundeboina/SmallApps/blob/main/SparkChallengeGemini.ipynb\" target=\"_parent\"><img src=\"https://colab.research.google.com/assets/colab-badge.svg\" alt=\"Open In Colab\"/></a>"
      ]
    },
    {
      "cell_type": "markdown",
      "source": [
        "Requirements:\n",
        "\n",
        "Load Data:\n",
        "\n",
        "    Load the sales_data.csv file into a PySpark DataFrame.\n",
        "    Infer the schema automatically during loading.\n",
        "\n",
        "-------------------------------------------------------\n",
        "\n",
        "Schema and Data Type Adjustments:\n",
        "\n",
        "    Ensure sale_date is cast to a DateType.\n",
        "    Ensure amount is cast to a DoubleType.\n",
        "    All other columns should have appropriate inferred types.\n",
        "\n",
        "--------------------------------------------------------\n",
        "\n",
        "Data Cleaning/Validation:\n",
        "\n",
        "    Handle Missing Values: Identify and fill any missing region values with 'Unknown'.\n",
        "    Invalid Amounts: Filter out any records where amount is less than or equal to 0.\n",
        "\n",
        "--------------------------------------------------------\n",
        "\n",
        "Feature Engineering/Derivation:\n",
        "\n",
        "    Calculate daily_profit_margin: Assume a fixed profit margin of 20% on all sales. Add a new column daily_profit_margin calculated as amount * 0.20.\n",
        "    Extract sale_month and sale_year: Create new columns sale_month (integer, e.g., 1 for January) and sale_year (integer, e.g., 2024) from the sale_date column.\n",
        "    Categorize Sales Volume: Create a new column sales_volume_category based on the amount:\n",
        "    'Low' if amount < 100\n",
        "    'Medium' if 100 <= amount < 300\n",
        "    'High' if amount >= 300\n",
        "\n",
        "----------------------------------------------------------\n",
        "\n",
        "Data Aggregation and Summarization:\n",
        "\n",
        "    Total Sales by Region: Calculate the total amount for each region.\n",
        "    Average Sales per Product: Calculate the average amount for each product_id.\n",
        "    Monthly Sales Trends: Calculate the total amount for each sale_year and sale_month combination.\n",
        "    Top 5 Customers by Spending: Identify the top 5 customer_ids who have spent the most in total.\n",
        "---------------------------------------------------------\n",
        "Data Pivoting:\n",
        "\n",
        "    Sales by Region and Currency: Pivot the data to show the total sales amount for each region, broken down by currency. (This will involve using pivot.)\n",
        "\n",
        "--------------------------------------------------------\n",
        "\n",
        "Data Export:\n",
        "\n",
        "    Write the final transformed DataFrame (after all cleaning and feature engineering, before aggregations) to a Parquet file, partitioned by sale_year and sale_month."
      ],
      "metadata": {
        "id": "qwEIQdqUH7Ao"
      }
    },
    {
      "cell_type": "markdown",
      "source": [
        "### **Solution**"
      ],
      "metadata": {
        "id": "EmKvpFajIz5g"
      }
    },
    {
      "cell_type": "code",
      "execution_count": 1,
      "metadata": {
        "id": "iYeaF1MZ07I0"
      },
      "outputs": [],
      "source": [
        "import pyspark\n",
        "from pyspark.sql import SparkSession\n",
        "spark=SparkSession.builder.appName('SparkChallengeGemini').getOrCreate()"
      ]
    },
    {
      "cell_type": "code",
      "source": [
        "spark"
      ],
      "metadata": {
        "colab": {
          "base_uri": "https://localhost:8080/",
          "height": 222
        },
        "id": "tHfcbAp_1WcP",
        "outputId": "3760bbb0-2335-4ffa-ab98-79008cc6e60e"
      },
      "execution_count": 2,
      "outputs": [
        {
          "output_type": "execute_result",
          "data": {
            "text/plain": [
              "<pyspark.sql.session.SparkSession at 0x78a106766610>"
            ],
            "text/html": [
              "\n",
              "            <div>\n",
              "                <p><b>SparkSession - in-memory</b></p>\n",
              "                \n",
              "        <div>\n",
              "            <p><b>SparkContext</b></p>\n",
              "\n",
              "            <p><a href=\"http://aa1b6b131d9e:4040\">Spark UI</a></p>\n",
              "\n",
              "            <dl>\n",
              "              <dt>Version</dt>\n",
              "                <dd><code>v3.5.1</code></dd>\n",
              "              <dt>Master</dt>\n",
              "                <dd><code>local[*]</code></dd>\n",
              "              <dt>AppName</dt>\n",
              "                <dd><code>SparkChallengeGemini</code></dd>\n",
              "            </dl>\n",
              "        </div>\n",
              "        \n",
              "            </div>\n",
              "        "
            ]
          },
          "metadata": {},
          "execution_count": 2
        }
      ]
    },
    {
      "cell_type": "code",
      "source": [
        "from pyspark.sql.functions import *\n",
        "from pyspark.sql.types import *"
      ],
      "metadata": {
        "id": "V8FiIGnE1diO"
      },
      "execution_count": 3,
      "outputs": []
    },
    {
      "cell_type": "markdown",
      "source": [
        "#### Loading data from CSV file"
      ],
      "metadata": {
        "id": "C_f_3m815xWy"
      }
    },
    {
      "cell_type": "code",
      "source": [
        "df=spark.read.format('csv').option('header',True).option('inferSchema',True).load('/content/drive/MyDrive/Abc/SalesData/sales_data.csv')\n",
        "df.show(5)"
      ],
      "metadata": {
        "colab": {
          "base_uri": "https://localhost:8080/"
        },
        "id": "5Dg3O3nc1v_P",
        "outputId": "b2fe7375-16bf-494c-d6c2-4966d4eb64ac"
      },
      "execution_count": 4,
      "outputs": [
        {
          "output_type": "stream",
          "name": "stdout",
          "text": [
            "+--------------+----------+-----------+----------+------+--------+------+\n",
            "|transaction_id|product_id|customer_id| sale_date|amount|currency|region|\n",
            "+--------------+----------+-----------+----------+------+--------+------+\n",
            "|          1001|      P001|       C101|2024-01-15|150.75|     USD| North|\n",
            "|          1002|      P002|       C102|2024-01-15| 200.0|     EUR| South|\n",
            "|          1003|      P003|       C103|2024-01-16| 50.25|     USD|  East|\n",
            "|          1004|      P001|       C101|2024-01-16| 300.5|     USD| North|\n",
            "|          1005|      P004|       C104|2024-01-17|  75.0|     GBP|  West|\n",
            "+--------------+----------+-----------+----------+------+--------+------+\n",
            "only showing top 5 rows\n",
            "\n"
          ]
        }
      ]
    },
    {
      "cell_type": "code",
      "source": [
        "df.columns"
      ],
      "metadata": {
        "colab": {
          "base_uri": "https://localhost:8080/"
        },
        "id": "hmrJeN8r2L2w",
        "outputId": "c126fd85-51e2-489c-889c-a54c77900aad"
      },
      "execution_count": 5,
      "outputs": [
        {
          "output_type": "execute_result",
          "data": {
            "text/plain": [
              "['transaction_id',\n",
              " 'product_id',\n",
              " 'customer_id',\n",
              " 'sale_date',\n",
              " 'amount',\n",
              " 'currency',\n",
              " 'region']"
            ]
          },
          "metadata": {},
          "execution_count": 5
        }
      ]
    },
    {
      "cell_type": "code",
      "source": [
        "df.dtypes"
      ],
      "metadata": {
        "colab": {
          "base_uri": "https://localhost:8080/"
        },
        "id": "FRax8Wv42SCC",
        "outputId": "3a4873c7-38f4-456d-f9d2-19d1700a129d"
      },
      "execution_count": 6,
      "outputs": [
        {
          "output_type": "execute_result",
          "data": {
            "text/plain": [
              "[('transaction_id', 'int'),\n",
              " ('product_id', 'string'),\n",
              " ('customer_id', 'string'),\n",
              " ('sale_date', 'date'),\n",
              " ('amount', 'double'),\n",
              " ('currency', 'string'),\n",
              " ('region', 'string')]"
            ]
          },
          "metadata": {},
          "execution_count": 6
        }
      ]
    },
    {
      "cell_type": "markdown",
      "source": [
        "#### Checking for columns with Null values"
      ],
      "metadata": {
        "id": "Ha_zpAXc55dz"
      }
    },
    {
      "cell_type": "code",
      "source": [
        "null_cnt=df.select([count(when(col(c).isNull(),c)).alias(c) for c in df.columns])\n",
        "null_cnt.show()"
      ],
      "metadata": {
        "colab": {
          "base_uri": "https://localhost:8080/"
        },
        "id": "cMded1qI2T7b",
        "outputId": "e1c0fd83-db4f-4faf-c404-b8b3e7e49a08"
      },
      "execution_count": 7,
      "outputs": [
        {
          "output_type": "stream",
          "name": "stdout",
          "text": [
            "+--------------+----------+-----------+---------+------+--------+------+\n",
            "|transaction_id|product_id|customer_id|sale_date|amount|currency|region|\n",
            "+--------------+----------+-----------+---------+------+--------+------+\n",
            "|             0|         0|          0|        0|     0|       0|     1|\n",
            "+--------------+----------+-----------+---------+------+--------+------+\n",
            "\n"
          ]
        }
      ]
    },
    {
      "cell_type": "markdown",
      "source": [
        "#### Filling Null values with Unknown"
      ],
      "metadata": {
        "id": "7TxdVt7i5_Q9"
      }
    },
    {
      "cell_type": "code",
      "source": [
        "df_fill=df.fillna(\"Unknown\",subset=['Region'])"
      ],
      "metadata": {
        "id": "5dK0tP782rM_"
      },
      "execution_count": 8,
      "outputs": []
    },
    {
      "cell_type": "code",
      "source": [
        "null_cnt=df_fill.select([count(when(col(c).isNull(),c)).alias(c) for c in df_fill.columns])\n",
        "null_cnt.show()"
      ],
      "metadata": {
        "colab": {
          "base_uri": "https://localhost:8080/"
        },
        "id": "K9P-N8ni5s91",
        "outputId": "139d5fd2-7438-434a-cf08-289096814ef4"
      },
      "execution_count": 9,
      "outputs": [
        {
          "output_type": "stream",
          "name": "stdout",
          "text": [
            "+--------------+----------+-----------+---------+------+--------+------+\n",
            "|transaction_id|product_id|customer_id|sale_date|amount|currency|region|\n",
            "+--------------+----------+-----------+---------+------+--------+------+\n",
            "|             0|         0|          0|        0|     0|       0|     0|\n",
            "+--------------+----------+-----------+---------+------+--------+------+\n",
            "\n"
          ]
        }
      ]
    },
    {
      "cell_type": "markdown",
      "source": [
        "#### Checking for improper amounts"
      ],
      "metadata": {
        "id": "K6VYTwzP6FKw"
      }
    },
    {
      "cell_type": "code",
      "source": [
        "df_drop=df_fill.filter(df_fill.amount>0).drop()"
      ],
      "metadata": {
        "id": "H3GILU5U5uxi"
      },
      "execution_count": 10,
      "outputs": []
    },
    {
      "cell_type": "code",
      "source": [
        "df_drop.filter(df_drop.amount<=0).count()"
      ],
      "metadata": {
        "colab": {
          "base_uri": "https://localhost:8080/"
        },
        "id": "8Bvkg-FH7NnG",
        "outputId": "b08a6c88-be60-4ba5-f467-460c22c96b83"
      },
      "execution_count": 11,
      "outputs": [
        {
          "output_type": "execute_result",
          "data": {
            "text/plain": [
              "0"
            ]
          },
          "metadata": {},
          "execution_count": 11
        }
      ]
    },
    {
      "cell_type": "code",
      "source": [
        "df_drop.show(5)"
      ],
      "metadata": {
        "colab": {
          "base_uri": "https://localhost:8080/"
        },
        "id": "etayRzVw6xPK",
        "outputId": "bc00027f-d37a-4bcc-e054-d9f8d44553f4"
      },
      "execution_count": 12,
      "outputs": [
        {
          "output_type": "stream",
          "name": "stdout",
          "text": [
            "+--------------+----------+-----------+----------+------+--------+------+\n",
            "|transaction_id|product_id|customer_id| sale_date|amount|currency|region|\n",
            "+--------------+----------+-----------+----------+------+--------+------+\n",
            "|          1001|      P001|       C101|2024-01-15|150.75|     USD| North|\n",
            "|          1002|      P002|       C102|2024-01-15| 200.0|     EUR| South|\n",
            "|          1003|      P003|       C103|2024-01-16| 50.25|     USD|  East|\n",
            "|          1004|      P001|       C101|2024-01-16| 300.5|     USD| North|\n",
            "|          1005|      P004|       C104|2024-01-17|  75.0|     GBP|  West|\n",
            "+--------------+----------+-----------+----------+------+--------+------+\n",
            "only showing top 5 rows\n",
            "\n"
          ]
        }
      ]
    },
    {
      "cell_type": "markdown",
      "source": [
        "#### Adding Features"
      ],
      "metadata": {
        "id": "SxHDi8CrHS35"
      }
    },
    {
      "cell_type": "code",
      "source": [
        "df_profit=df_drop.withColumn('profit_margin',round(df_drop['amount']*0.20,2))\n",
        "df_profit.show(5)"
      ],
      "metadata": {
        "colab": {
          "base_uri": "https://localhost:8080/"
        },
        "id": "1W3dWErJ7F_o",
        "outputId": "2b37ca49-96ad-496e-b43e-c519b58fb5b4"
      },
      "execution_count": 13,
      "outputs": [
        {
          "output_type": "stream",
          "name": "stdout",
          "text": [
            "+--------------+----------+-----------+----------+------+--------+------+-------------+\n",
            "|transaction_id|product_id|customer_id| sale_date|amount|currency|region|profit_margin|\n",
            "+--------------+----------+-----------+----------+------+--------+------+-------------+\n",
            "|          1001|      P001|       C101|2024-01-15|150.75|     USD| North|        30.15|\n",
            "|          1002|      P002|       C102|2024-01-15| 200.0|     EUR| South|         40.0|\n",
            "|          1003|      P003|       C103|2024-01-16| 50.25|     USD|  East|        10.05|\n",
            "|          1004|      P001|       C101|2024-01-16| 300.5|     USD| North|         60.1|\n",
            "|          1005|      P004|       C104|2024-01-17|  75.0|     GBP|  West|         15.0|\n",
            "+--------------+----------+-----------+----------+------+--------+------+-------------+\n",
            "only showing top 5 rows\n",
            "\n"
          ]
        }
      ]
    },
    {
      "cell_type": "code",
      "source": [
        "df_sale=df_profit.withColumn('sale_date',to_date(df_profit['sale_date'],'dd-MM-yyyy'))\n",
        "df_mon=df_sale.withColumn('sale_Month',month(df_sale['sale_date']))\n",
        "df_year=df_mon.withColumn('sale_Year',year(df_mon['sale_date']))\n",
        "df_year.show(4)"
      ],
      "metadata": {
        "colab": {
          "base_uri": "https://localhost:8080/"
        },
        "id": "EKCF6RGP7ymj",
        "outputId": "caecf983-ea2a-4c04-8a31-939b394cbaa7"
      },
      "execution_count": 14,
      "outputs": [
        {
          "output_type": "stream",
          "name": "stdout",
          "text": [
            "+--------------+----------+-----------+----------+------+--------+------+-------------+----------+---------+\n",
            "|transaction_id|product_id|customer_id| sale_date|amount|currency|region|profit_margin|sale_Month|sale_Year|\n",
            "+--------------+----------+-----------+----------+------+--------+------+-------------+----------+---------+\n",
            "|          1001|      P001|       C101|2024-01-15|150.75|     USD| North|        30.15|         1|     2024|\n",
            "|          1002|      P002|       C102|2024-01-15| 200.0|     EUR| South|         40.0|         1|     2024|\n",
            "|          1003|      P003|       C103|2024-01-16| 50.25|     USD|  East|        10.05|         1|     2024|\n",
            "|          1004|      P001|       C101|2024-01-16| 300.5|     USD| North|         60.1|         1|     2024|\n",
            "+--------------+----------+-----------+----------+------+--------+------+-------------+----------+---------+\n",
            "only showing top 4 rows\n",
            "\n"
          ]
        }
      ]
    },
    {
      "cell_type": "code",
      "source": [
        "df_final=df_year.withColumn('sales_volume_category',when(col('amount')<100, \"low\").when(((col('amount')>=100) & (col('amount')<300)) ,\"medium\").otherwise(\"high\"))\n",
        "df_final.show(4)"
      ],
      "metadata": {
        "colab": {
          "base_uri": "https://localhost:8080/"
        },
        "id": "8Dmi4pC38H_K",
        "outputId": "b190bd6f-2178-4ca4-deaa-5ccfc4f288c6"
      },
      "execution_count": 15,
      "outputs": [
        {
          "output_type": "stream",
          "name": "stdout",
          "text": [
            "+--------------+----------+-----------+----------+------+--------+------+-------------+----------+---------+---------------------+\n",
            "|transaction_id|product_id|customer_id| sale_date|amount|currency|region|profit_margin|sale_Month|sale_Year|sales_volume_category|\n",
            "+--------------+----------+-----------+----------+------+--------+------+-------------+----------+---------+---------------------+\n",
            "|          1001|      P001|       C101|2024-01-15|150.75|     USD| North|        30.15|         1|     2024|               medium|\n",
            "|          1002|      P002|       C102|2024-01-15| 200.0|     EUR| South|         40.0|         1|     2024|               medium|\n",
            "|          1003|      P003|       C103|2024-01-16| 50.25|     USD|  East|        10.05|         1|     2024|                  low|\n",
            "|          1004|      P001|       C101|2024-01-16| 300.5|     USD| North|         60.1|         1|     2024|                 high|\n",
            "+--------------+----------+-----------+----------+------+--------+------+-------------+----------+---------+---------------------+\n",
            "only showing top 4 rows\n",
            "\n"
          ]
        }
      ]
    },
    {
      "cell_type": "markdown",
      "source": [
        "#### Aggregations"
      ],
      "metadata": {
        "id": "oDPEroHbHOQ3"
      }
    },
    {
      "cell_type": "code",
      "source": [
        "df_region=df_final.groupBy('region').agg(round(sum(col('amount')),2).alias('region_sales'))\n",
        "df_region.show()"
      ],
      "metadata": {
        "colab": {
          "base_uri": "https://localhost:8080/"
        },
        "id": "CVbLePGy94a-",
        "outputId": "87ea08bc-d665-42ad-9dbc-9aec5061276c"
      },
      "execution_count": 16,
      "outputs": [
        {
          "output_type": "stream",
          "name": "stdout",
          "text": [
            "+-------+------------+\n",
            "| region|region_sales|\n",
            "+-------+------------+\n",
            "|Unknown|       250.0|\n",
            "|  South|      1815.0|\n",
            "|Central|       900.0|\n",
            "|   East|      745.25|\n",
            "|   West|     2920.49|\n",
            "|  North|     3236.74|\n",
            "+-------+------------+\n",
            "\n"
          ]
        }
      ]
    },
    {
      "cell_type": "code",
      "source": [
        "df_product=df_final.groupBy('product_id').agg(round(avg(col('amount')),2).alias('avg_sales_per_product')).orderBy(col('avg_sales_per_product').desc())\n",
        "df_product.show()"
      ],
      "metadata": {
        "colab": {
          "base_uri": "https://localhost:8080/"
        },
        "id": "08C4lYPZ_qiy",
        "outputId": "da8ed310-51ae-4dfb-8ec6-1559c9b56b14"
      },
      "execution_count": 17,
      "outputs": [
        {
          "output_type": "stream",
          "name": "stdout",
          "text": [
            "+----------+---------------------+\n",
            "|product_id|avg_sales_per_product|\n",
            "+----------+---------------------+\n",
            "|      P009|               1100.0|\n",
            "|      P008|                500.0|\n",
            "|      P006|               483.33|\n",
            "|      P011|                450.0|\n",
            "|      P012|                250.0|\n",
            "|      P002|               196.67|\n",
            "|      P010|                127.5|\n",
            "|      P001|                112.6|\n",
            "|      P003|               110.05|\n",
            "|      P005|                108.1|\n",
            "|      P004|                100.1|\n",
            "|      P007|                 47.5|\n",
            "+----------+---------------------+\n",
            "\n"
          ]
        }
      ]
    },
    {
      "cell_type": "code",
      "source": [
        "df_cus=df_final.groupBy('customer_id').agg(round(sum(col('amount')),2).alias('total_sales_per_cus')).orderBy(col('Total_sales_per_cus').desc())\n",
        "df_cus.show(5)"
      ],
      "metadata": {
        "colab": {
          "base_uri": "https://localhost:8080/"
        },
        "id": "jGgYpCPhBM6J",
        "outputId": "4838def5-0749-46d0-a978-2b340f601468"
      },
      "execution_count": 18,
      "outputs": [
        {
          "output_type": "stream",
          "name": "stdout",
          "text": [
            "+-----------+-------------------+\n",
            "|customer_id|total_sales_per_cus|\n",
            "+-----------+-------------------+\n",
            "|       C111|             2200.0|\n",
            "|       C101|            1751.74|\n",
            "|       C108|             1455.0|\n",
            "|       C113|              900.0|\n",
            "|       C102|              685.0|\n",
            "+-----------+-------------------+\n",
            "only showing top 5 rows\n",
            "\n"
          ]
        }
      ]
    },
    {
      "cell_type": "code",
      "source": [
        "df_trend=df_final.groupBy(['sale_Month','sale_Year']).agg(round(sum(col('amount')),2).alias('total_sales_per_MY'))\n",
        "df_trend.show()"
      ],
      "metadata": {
        "colab": {
          "base_uri": "https://localhost:8080/"
        },
        "id": "wNE0UDc2Bfnp",
        "outputId": "f7aa3b68-a777-4aca-f073-002300b2ac2b"
      },
      "execution_count": 19,
      "outputs": [
        {
          "output_type": "stream",
          "name": "stdout",
          "text": [
            "+----------+---------+------------------+\n",
            "|sale_Month|sale_Year|total_sales_per_MY|\n",
            "+----------+---------+------------------+\n",
            "|         3|     2024|            890.49|\n",
            "|         1|     2024|           2216.99|\n",
            "|         5|     2024|            1055.0|\n",
            "|         2|     2024|            2380.0|\n",
            "|         4|     2024|            1310.0|\n",
            "|         6|     2024|            2015.0|\n",
            "+----------+---------+------------------+\n",
            "\n"
          ]
        }
      ]
    },
    {
      "cell_type": "code",
      "source": [
        "df_sal_R_c=df_final.groupBy(['region']).pivot('currency').agg(round(sum('amount'),2).alias('sal_cur_reg')).fillna(0)\n",
        "df_sal_R_c.show()"
      ],
      "metadata": {
        "colab": {
          "base_uri": "https://localhost:8080/"
        },
        "id": "WabxkCXsCRn8",
        "outputId": "9b351a79-4c4b-48d5-b158-a666d30ca304"
      },
      "execution_count": 20,
      "outputs": [
        {
          "output_type": "stream",
          "name": "stdout",
          "text": [
            "+-------+------+------+-------+\n",
            "| region|   EUR|   GBP|    USD|\n",
            "+-------+------+------+-------+\n",
            "|Unknown|   0.0|   0.0|  250.0|\n",
            "|  South|1680.0|   0.0|  135.0|\n",
            "|Central|   0.0|   0.0|  900.0|\n",
            "|   East| 270.0|   0.0| 475.25|\n",
            "|   West|   0.0|674.99| 2245.5|\n",
            "|  North|   0.0|  35.0|3201.74|\n",
            "+-------+------+------+-------+\n",
            "\n"
          ]
        }
      ]
    },
    {
      "cell_type": "code",
      "source": [
        "df_final.write.parquet('/content/spark-warehouse/agg_data')"
      ],
      "metadata": {
        "id": "uu7SLp-cC9Yg"
      },
      "execution_count": 21,
      "outputs": []
    },
    {
      "cell_type": "code",
      "source": [
        "!ls -lrt /content/spark-warehouse/agg_data"
      ],
      "metadata": {
        "colab": {
          "base_uri": "https://localhost:8080/"
        },
        "id": "mnaTG2a6F9JN",
        "outputId": "4423f4fd-e673-43e7-eb9b-f5602d6257fa"
      },
      "execution_count": 22,
      "outputs": [
        {
          "output_type": "stream",
          "name": "stdout",
          "text": [
            "total 8\n",
            "-rw-r--r-- 1 root root 4401 Jun 18 17:34 part-00000-ed4648f0-0351-41b4-b594-ccf1fed8ccb2-c000.snappy.parquet\n",
            "-rw-r--r-- 1 root root    0 Jun 18 17:34 _SUCCESS\n"
          ]
        }
      ]
    },
    {
      "cell_type": "markdown",
      "source": [
        "**END OF CODE**"
      ],
      "metadata": {
        "id": "Ye6JtCcNHZxc"
      }
    }
  ]
}