{
  "nbformat": 4,
  "nbformat_minor": 0,
  "metadata": {
    "colab": {
      "provenance": []
    },
    "kernelspec": {
      "name": "python3",
      "display_name": "Python 3"
    },
    "language_info": {
      "name": "python"
    }
  },
  "cells": [
    {
      "cell_type": "code",
      "execution_count": null,
      "metadata": {
        "id": "cs5H83VDZ7UZ"
      },
      "outputs": [],
      "source": [
        "import string\n",
        "import random\n",
        "def otp_generator():\n",
        "    OTP=''.join(random.choices(string.digits, k=6))\n",
        "    return OTP\n",
        "def check_otp(a=1,max_a=4):\n",
        "    if a >= max_a:\n",
        "        return \"OTP expired. Maximum attempts reached.\"\n",
        "    mobile_number()\n",
        "    OTP=otp_generator()\n",
        "    print('Generated OTP is',OTP)\n",
        "    check=input('Enter OTP ')\n",
        "    if (OTP==check):\n",
        "        print('Welcome to Santha')\n",
        "    else:\n",
        "        print(\"Inccorect OTP\",max_a-a-1,'attempts left')\n",
        "        return check_otp( a+1, max_a)\n",
        "def mobile_number():\n",
        "    print('Give you mobile number')\n",
        "    number=str(input())\n",
        "    if len(number)<10:\n",
        "        print('Invalid number')\n",
        "        mobile_number()\n",
        "    elif len(number)>10:\n",
        "        print('Invalid number')\n",
        "        mobile_number()\n",
        "    else:\n",
        "        otp_generator()"
      ]
    },
    {
      "cell_type": "code",
      "source": [
        "check_otp()"
      ],
      "metadata": {
        "colab": {
          "base_uri": "https://localhost:8080/"
        },
        "id": "V4Hl9PG0DhDB",
        "outputId": "7f964672-e032-46e2-f495-a39ce18b27e7"
      },
      "execution_count": null,
      "outputs": [
        {
          "output_type": "stream",
          "name": "stdout",
          "text": [
            "Give you mobile number\n",
            "8945678909\n",
            "Generated OTP is 569138\n",
            "Enter OTP 569138\n",
            "Welcome to Santha\n"
          ]
        }
      ]
    },
    {
      "cell_type": "code",
      "source": [],
      "metadata": {
        "id": "00qDvjDEGRhI"
      },
      "execution_count": null,
      "outputs": []
    }
  ]
}