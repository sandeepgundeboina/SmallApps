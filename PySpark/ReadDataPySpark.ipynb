{
  "nbformat": 4,
  "nbformat_minor": 0,
  "metadata": {
    "colab": {
      "provenance": [],
      "authorship_tag": "ABX9TyOoIMfi8PWkBOYzk5Z+bI/P",
      "include_colab_link": true
    },
    "kernelspec": {
      "name": "python3",
      "display_name": "Python 3"
    },
    "language_info": {
      "name": "python"
    }
  },
  "cells": [
    {
      "cell_type": "markdown",
      "metadata": {
        "id": "view-in-github",
        "colab_type": "text"
      },
      "source": [
        "<a href=\"https://colab.research.google.com/github/sandeepgundeboina/SmallApps/blob/main/ReadDataPySpark.ipynb\" target=\"_parent\"><img src=\"https://colab.research.google.com/assets/colab-badge.svg\" alt=\"Open In Colab\"/></a>"
      ]
    },
    {
      "cell_type": "code",
      "source": [
        "!pip install pyspark\n",
        "!wget https://jdbc.postgresql.org/download/postgresql-42.2.23.jar\n",
        "!cp postgresql-42.2.23.jar /usr/local/lib/"
      ],
      "metadata": {
        "id": "ENypWITQZswD",
        "colab": {
          "base_uri": "https://localhost:8080/"
        },
        "outputId": "4f36c16e-459b-4eee-8732-f75ce993bfef"
      },
      "execution_count": 1,
      "outputs": [
        {
          "output_type": "stream",
          "name": "stdout",
          "text": [
            "Requirement already satisfied: pyspark in /usr/local/lib/python3.10/dist-packages (3.5.3)\n",
            "Requirement already satisfied: py4j==0.10.9.7 in /usr/local/lib/python3.10/dist-packages (from pyspark) (0.10.9.7)\n",
            "--2024-11-11 09:57:31--  https://jdbc.postgresql.org/download/postgresql-42.2.23.jar\n",
            "Resolving jdbc.postgresql.org (jdbc.postgresql.org)... 72.32.157.228, 2001:4800:3e1:1::228\n",
            "Connecting to jdbc.postgresql.org (jdbc.postgresql.org)|72.32.157.228|:443... connected.\n",
            "HTTP request sent, awaiting response... 200 OK\n",
            "Length: 1005522 (982K) [application/java-archive]\n",
            "Saving to: ‘postgresql-42.2.23.jar’\n",
            "\n",
            "postgresql-42.2.23. 100%[===================>] 981.96K  1.17MB/s    in 0.8s    \n",
            "\n",
            "2024-11-11 09:57:32 (1.17 MB/s) - ‘postgresql-42.2.23.jar’ saved [1005522/1005522]\n",
            "\n"
          ]
        }
      ]
    },
    {
      "cell_type": "code",
      "source": [
        "import pyspark\n",
        "from pyspark.sql import SparkSession\n",
        "\n",
        "spark = SparkSession.builder \\\n",
        "    .appName(\"PostgreSQL Connection\") \\\n",
        "    .config(\"spark.jars\", \"/usr/local/lib/postgresql-42.2.23.jar\") \\\n",
        "    .getOrCreate()\n",
        "\n",
        "#jdbcHostname='ss-sandeep-de.database.windows.net'\n",
        "#jdbcPort=1433\n",
        "#jdbcDatabase='database-sandeepde'\n",
        "#jdbcUser='sandeepde'\n",
        "#jdbcPassword='Advik4747'\n",
        "#jdbcDriver='com.microsoft.sqlserver.jdbc.SQLServerDriver'\n",
        "\n",
        "#jdbcUrl=f\"jdbc:sqlserver://{jdbcHostname}:{jdbcPort};databaseName={jdbcDatabase};user={jdbcUser};password={jdbcPassword}\"#\n",
        "\n",
        "\n",
        "\n",
        "\n",
        "\n",
        "jdbcUrl='jdbc:postgresql://ep-summer-flower-a8ttwlet.eastus2.azure.neon.tech/pet_adoption?'\n",
        "\n",
        "properties = {\n",
        "    \"user\": \"pet_adoption_owner\",\n",
        "    \"password\": \"E9RfH6azeLJV\",\n",
        "    \"driver\": \"org.postgresql.Driver\"\n",
        "}\n",
        "\n",
        "\n",
        "try:\n",
        "    df = spark.read.jdbc(url=jdbcUrl,properties=properties, table='location')\n",
        "    df.show()\n",
        "except Exception as e:\n",
        "    print(f\"Error: {e}\")\n"
      ],
      "metadata": {
        "colab": {
          "base_uri": "https://localhost:8080/"
        },
        "id": "AZvZOsw-mGI9",
        "outputId": "61a6e07f-b67d-47db-e701-50f1064552f1"
      },
      "execution_count": 2,
      "outputs": [
        {
          "output_type": "stream",
          "name": "stdout",
          "text": [
            "+-----+--------------+--------+--------+------+-----+\n",
            "|index|      location|exported|imported| total| inus|\n",
            "+-----+--------------+--------+--------+------+-----+\n",
            "|    0|         Texas|   635.0|     NaN| 566.0| true|\n",
            "|    1|       Alabama|   268.0|     2.0|1428.0| true|\n",
            "|    2|North Carolina|   158.0|    14.0|2627.0| true|\n",
            "|    3|South Carolina|   139.0|    12.0|1618.0| true|\n",
            "|    4|       Georgia|   137.0|    19.0|3479.0| true|\n",
            "|    5|   Puerto Rico|   131.0|     NaN|   NaN|false|\n",
            "|    6|    California|   130.0|     3.0|1664.0| true|\n",
            "|    7|   South Korea|    76.0|     NaN|   NaN|false|\n",
            "|    8|     Tennessee|    66.0|    20.0|1769.0| true|\n",
            "|    9|      Kentucky|    57.0|     4.0|1123.0| true|\n",
            "|   10|   Mississippi|    55.0|     NaN| 510.0| true|\n",
            "|   11|        Mexico|    54.0|     NaN|   NaN|false|\n",
            "|   12|     Louisiana|    53.0|     NaN| 912.0| true|\n",
            "|   13| West Virginia|    50.0|     NaN| 565.0| true|\n",
            "|   14|       Florida|    49.0|    32.0|2659.0| true|\n",
            "|   15|      Arkansas|    47.0|     1.0| 695.0| true|\n",
            "|   16|         China|    28.0|     NaN|   NaN|false|\n",
            "|   17|    New Mexico|    27.0|     NaN| 636.0| true|\n",
            "|   18|      Thailand|    20.0|     NaN|   NaN|false|\n",
            "|   19|      Virginia|    20.0|   183.0|3058.0| true|\n",
            "+-----+--------------+--------+--------+------+-----+\n",
            "only showing top 20 rows\n",
            "\n"
          ]
        }
      ]
    },
    {
      "cell_type": "code",
      "source": [
        "print(spark.sparkContext._jsc.sc().listJars())"
      ],
      "metadata": {
        "colab": {
          "base_uri": "https://localhost:8080/"
        },
        "id": "Rh5CsfchkP-T",
        "outputId": "7d0929f8-48ca-49ef-fc55-f9f8e5f8b447"
      },
      "execution_count": 3,
      "outputs": [
        {
          "output_type": "stream",
          "name": "stdout",
          "text": [
            "Vector(spark://147411d2684a:46525/jars/postgresql-42.2.23.jar)\n"
          ]
        }
      ]
    },
    {
      "cell_type": "code",
      "source": [
        "display(df)"
      ],
      "metadata": {
        "colab": {
          "base_uri": "https://localhost:8080/",
          "height": 34
        },
        "id": "Ll92XzEB2D8j",
        "outputId": "c2495d3e-8009-406f-fc62-03af5f085298"
      },
      "execution_count": 4,
      "outputs": [
        {
          "output_type": "display_data",
          "data": {
            "text/plain": [
              "DataFrame[index: int, location: string, exported: string, imported: string, total: string, inus: boolean]"
            ]
          },
          "metadata": {}
        }
      ]
    },
    {
      "cell_type": "code",
      "source": [
        "import pyspark\n",
        "from pyspark.sql import SparkSession\n",
        "\n",
        "spark = SparkSession.builder \\\n",
        "    .appName(\"JDBC Connection\") \\\n",
        "    .getOrCreate()"
      ],
      "metadata": {
        "id": "qwrd9JRw6U3j"
      },
      "execution_count": 5,
      "outputs": []
    },
    {
      "cell_type": "code",
      "source": [
        "spark"
      ],
      "metadata": {
        "colab": {
          "base_uri": "https://localhost:8080/",
          "height": 219
        },
        "id": "8UtxrGpnRGKf",
        "outputId": "6488b153-6112-421f-cdae-8d1c35378eaf"
      },
      "execution_count": 6,
      "outputs": [
        {
          "output_type": "execute_result",
          "data": {
            "text/plain": [
              "<pyspark.sql.session.SparkSession at 0x78123a4a3a60>"
            ],
            "text/html": [
              "\n",
              "            <div>\n",
              "                <p><b>SparkSession - in-memory</b></p>\n",
              "                \n",
              "        <div>\n",
              "            <p><b>SparkContext</b></p>\n",
              "\n",
              "            <p><a href=\"http://147411d2684a:4040\">Spark UI</a></p>\n",
              "\n",
              "            <dl>\n",
              "              <dt>Version</dt>\n",
              "                <dd><code>v3.5.3</code></dd>\n",
              "              <dt>Master</dt>\n",
              "                <dd><code>local[*]</code></dd>\n",
              "              <dt>AppName</dt>\n",
              "                <dd><code>PostgreSQL Connection</code></dd>\n",
              "            </dl>\n",
              "        </div>\n",
              "        \n",
              "            </div>\n",
              "        "
            ]
          },
          "metadata": {},
          "execution_count": 6
        }
      ]
    }
  ]
}