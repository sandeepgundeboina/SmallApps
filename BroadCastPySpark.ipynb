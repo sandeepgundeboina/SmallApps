{
  "nbformat": 4,
  "nbformat_minor": 0,
  "metadata": {
    "colab": {
      "provenance": [],
      "authorship_tag": "ABX9TyO97z2Hl/Fz31nFlu+YB/CD",
      "include_colab_link": true
    },
    "kernelspec": {
      "name": "python3",
      "display_name": "Python 3"
    },
    "language_info": {
      "name": "python"
    }
  },
  "cells": [
    {
      "cell_type": "markdown",
      "metadata": {
        "id": "view-in-github",
        "colab_type": "text"
      },
      "source": [
        "<a href=\"https://colab.research.google.com/github/sandeepgundeboina/SmallApps/blob/main/BroadCastPySpark.ipynb\" target=\"_parent\"><img src=\"https://colab.research.google.com/assets/colab-badge.svg\" alt=\"Open In Colab\"/></a>"
      ]
    },
    {
      "cell_type": "code",
      "execution_count": null,
      "metadata": {
        "colab": {
          "base_uri": "https://localhost:8080/"
        },
        "id": "4BNmERM3FMTK",
        "outputId": "37c39595-2cc2-4ff3-98d8-be1b8dd82faf"
      },
      "outputs": [
        {
          "output_type": "stream",
          "name": "stdout",
          "text": [
            "Requirement already satisfied: pyspark in /usr/local/lib/python3.10/dist-packages (3.5.3)\n",
            "Requirement already satisfied: py4j==0.10.9.7 in /usr/local/lib/python3.10/dist-packages (from pyspark) (0.10.9.7)\n"
          ]
        }
      ],
      "source": [
        "!pip install pyspark\n",
        "import pyspark\n",
        "from pyspark.sql import SparkSession\n",
        "spark = SparkSession.builder.appName('test').getOrCreate()"
      ]
    },
    {
      "cell_type": "code",
      "source": [
        "transactions=[\n",
        "    ('Apple',100,250,1),\n",
        "    ('Samsung',200,None,1),\n",
        "    ('mi',200,150,3),\n",
        "    ('OnePlus',300,140,2),\n",
        "    ('Oppo',200,170,2),\n",
        "    ('Realme',300,None,4),\n",
        "    ('Iqoo',400,170,4)\n",
        "]\n",
        "transDF=spark.createDataFrame(transactions,['product','quantity','price','store'])\n",
        "transDF.show()"
      ],
      "metadata": {
        "colab": {
          "base_uri": "https://localhost:8080/"
        },
        "id": "dcKgxyUkFeUH",
        "outputId": "d0ae53bf-bd19-4890-bf49-72ed1f70961f"
      },
      "execution_count": null,
      "outputs": [
        {
          "output_type": "stream",
          "name": "stdout",
          "text": [
            "+-------+--------+-----+-----+\n",
            "|product|quantity|price|store|\n",
            "+-------+--------+-----+-----+\n",
            "|  Apple|     100|  250|    1|\n",
            "|Samsung|     200| NULL|    1|\n",
            "|     mi|     200|  150|    3|\n",
            "|OnePlus|     300|  140|    2|\n",
            "|   Oppo|     200|  170|    2|\n",
            "| Realme|     300| NULL|    4|\n",
            "|   Iqoo|     400|  170|    4|\n",
            "+-------+--------+-----+-----+\n",
            "\n"
          ]
        }
      ]
    },
    {
      "cell_type": "code",
      "source": [
        "transDF=transDF.repartition(5)\n",
        "transDF.rdd.getNumPartitions()"
      ],
      "metadata": {
        "colab": {
          "base_uri": "https://localhost:8080/"
        },
        "id": "E_-mVFcbhPOr",
        "outputId": "39574c6e-3c68-4c66-f5f2-1155cd6e029b"
      },
      "execution_count": null,
      "outputs": [
        {
          "output_type": "execute_result",
          "data": {
            "text/plain": [
              "5"
            ]
          },
          "metadata": {},
          "execution_count": 3
        }
      ]
    },
    {
      "cell_type": "code",
      "source": [
        "store=[\n",
        "    (1,'Allahabad'),\n",
        "    (2,'Bhemghal'),\n",
        "    (3,'Chagal'),\n",
        "    (4,'Delhi')\n",
        "]\n",
        "storeDF=spark.createDataFrame(store,['store_id','store_name'])\n",
        "storeDF.show()"
      ],
      "metadata": {
        "colab": {
          "base_uri": "https://localhost:8080/"
        },
        "id": "oP9PRstuJ3RI",
        "outputId": "46214ad1-b5e4-4b2e-8b13-eb0bcae43c08"
      },
      "execution_count": null,
      "outputs": [
        {
          "output_type": "stream",
          "name": "stdout",
          "text": [
            "+--------+----------+\n",
            "|store_id|store_name|\n",
            "+--------+----------+\n",
            "|       1| Allahabad|\n",
            "|       2|  Bhemghal|\n",
            "|       3|    Chagal|\n",
            "|       4|     Delhi|\n",
            "+--------+----------+\n",
            "\n"
          ]
        }
      ]
    },
    {
      "cell_type": "code",
      "source": [
        "from pyspark.sql.functions import broadcast\n",
        "location_df=transDF.join(broadcast(storeDF),transDF.store==storeDF.store_id).select('product','price','quantity','store_name').sort('quantity')\n",
        "location_df.show()"
      ],
      "metadata": {
        "colab": {
          "base_uri": "https://localhost:8080/"
        },
        "id": "TnOhEefmJ3Om",
        "outputId": "957cfa18-1447-49af-ad92-400f47dd0dfe"
      },
      "execution_count": null,
      "outputs": [
        {
          "output_type": "stream",
          "name": "stdout",
          "text": [
            "+-------+-----+--------+----------+\n",
            "|product|price|quantity|store_name|\n",
            "+-------+-----+--------+----------+\n",
            "|  Apple|  250|     100| Allahabad|\n",
            "|     mi|  150|     200|    Chagal|\n",
            "|Samsung| NULL|     200| Allahabad|\n",
            "|   Oppo|  170|     200|  Bhemghal|\n",
            "|OnePlus|  140|     300|  Bhemghal|\n",
            "| Realme| NULL|     300|     Delhi|\n",
            "|   Iqoo|  170|     400|     Delhi|\n",
            "+-------+-----+--------+----------+\n",
            "\n"
          ]
        }
      ]
    },
    {
      "cell_type": "code",
      "source": [
        "transDF.filter(transDF.price.isNotNull()).show()"
      ],
      "metadata": {
        "colab": {
          "base_uri": "https://localhost:8080/"
        },
        "id": "_hCQQNAXulM_",
        "outputId": "293b4cb0-6aab-4348-b4fd-03719f529004"
      },
      "execution_count": null,
      "outputs": [
        {
          "output_type": "stream",
          "name": "stdout",
          "text": [
            "+-------+--------+-----+-----+\n",
            "|product|quantity|price|store|\n",
            "+-------+--------+-----+-----+\n",
            "|  Apple|     100|  250|    1|\n",
            "|   Iqoo|     400|  170|    4|\n",
            "|OnePlus|     300|  140|    2|\n",
            "|     mi|     200|  150|    3|\n",
            "|   Oppo|     200|  170|    2|\n",
            "+-------+--------+-----+-----+\n",
            "\n"
          ]
        }
      ]
    },
    {
      "cell_type": "code",
      "source": [
        "transDF.fillna(140).show()"
      ],
      "metadata": {
        "colab": {
          "base_uri": "https://localhost:8080/"
        },
        "id": "URNfungaxV6f",
        "outputId": "ddcb9534-1939-4244-a66a-f64ea6a45687"
      },
      "execution_count": null,
      "outputs": [
        {
          "output_type": "stream",
          "name": "stdout",
          "text": [
            "+-------+--------+-----+-----+\n",
            "|product|quantity|price|store|\n",
            "+-------+--------+-----+-----+\n",
            "|Samsung|     200|  140|    1|\n",
            "|   Iqoo|     400|  170|    4|\n",
            "|  Apple|     100|  250|    1|\n",
            "| Realme|     300|  140|    4|\n",
            "|OnePlus|     300|  140|    2|\n",
            "|     mi|     200|  150|    3|\n",
            "|   Oppo|     200|  170|    2|\n",
            "+-------+--------+-----+-----+\n",
            "\n"
          ]
        }
      ]
    },
    {
      "cell_type": "code",
      "source": [
        "location_df.explain(True)"
      ],
      "metadata": {
        "colab": {
          "base_uri": "https://localhost:8080/"
        },
        "id": "2O79EVNmNaJy",
        "outputId": "4d619d60-d8be-466b-ee10-60c1632dad5f"
      },
      "execution_count": null,
      "outputs": [
        {
          "output_type": "stream",
          "name": "stdout",
          "text": [
            "== Parsed Logical Plan ==\n",
            "'Sort ['quantity ASC NULLS FIRST], true\n",
            "+- Project [product#0, price#2L, quantity#1L, store_name#26]\n",
            "   +- Join Inner, (store#3L = store_id#25L)\n",
            "      :- Repartition 5, true\n",
            "      :  +- LogicalRDD [product#0, quantity#1L, price#2L, store#3L], false\n",
            "      +- ResolvedHint (strategy=broadcast)\n",
            "         +- LogicalRDD [store_id#25L, store_name#26], false\n",
            "\n",
            "== Analyzed Logical Plan ==\n",
            "product: string, price: bigint, quantity: bigint, store_name: string\n",
            "Sort [quantity#1L ASC NULLS FIRST], true\n",
            "+- Project [product#0, price#2L, quantity#1L, store_name#26]\n",
            "   +- Join Inner, (store#3L = store_id#25L)\n",
            "      :- Repartition 5, true\n",
            "      :  +- LogicalRDD [product#0, quantity#1L, price#2L, store#3L], false\n",
            "      +- ResolvedHint (strategy=broadcast)\n",
            "         +- LogicalRDD [store_id#25L, store_name#26], false\n",
            "\n",
            "== Optimized Logical Plan ==\n",
            "Sort [quantity#1L ASC NULLS FIRST], true\n",
            "+- Project [product#0, price#2L, quantity#1L, store_name#26]\n",
            "   +- Join Inner, (store#3L = store_id#25L), rightHint=(strategy=broadcast)\n",
            "      :- Repartition 5, true\n",
            "      :  +- Filter isnotnull(store#3L)\n",
            "      :     +- LogicalRDD [product#0, quantity#1L, price#2L, store#3L], false\n",
            "      +- Filter isnotnull(store_id#25L)\n",
            "         +- LogicalRDD [store_id#25L, store_name#26], false\n",
            "\n",
            "== Physical Plan ==\n",
            "AdaptiveSparkPlan isFinalPlan=false\n",
            "+- Sort [quantity#1L ASC NULLS FIRST], true, 0\n",
            "   +- Exchange rangepartitioning(quantity#1L ASC NULLS FIRST, 200), ENSURE_REQUIREMENTS, [plan_id=228]\n",
            "      +- Project [product#0, price#2L, quantity#1L, store_name#26]\n",
            "         +- BroadcastHashJoin [store#3L], [store_id#25L], Inner, BuildRight, false\n",
            "            :- Exchange RoundRobinPartitioning(5), REPARTITION_BY_NUM, [plan_id=217]\n",
            "            :  +- Filter isnotnull(store#3L)\n",
            "            :     +- Scan ExistingRDD[product#0,quantity#1L,price#2L,store#3L]\n",
            "            +- BroadcastExchange HashedRelationBroadcastMode(List(input[0, bigint, false]),false), [plan_id=224]\n",
            "               +- Filter isnotnull(store_id#25L)\n",
            "                  +- Scan ExistingRDD[store_id#25L,store_name#26]\n",
            "\n"
          ]
        }
      ]
    },
    {
      "cell_type": "code",
      "source": [
        "location_df.rdd.getNumPartitions()"
      ],
      "metadata": {
        "colab": {
          "base_uri": "https://localhost:8080/"
        },
        "id": "nRtIb3o1NhYe",
        "outputId": "0ee90b9d-f525-4c1a-a319-bf7a569ca4b3"
      },
      "execution_count": null,
      "outputs": [
        {
          "output_type": "execute_result",
          "data": {
            "text/plain": [
              "1"
            ]
          },
          "metadata": {},
          "execution_count": 9
        }
      ]
    },
    {
      "cell_type": "code",
      "source": [
        "spark.conf.get('spark.sql.shuffle.partitions')"
      ],
      "metadata": {
        "colab": {
          "base_uri": "https://localhost:8080/",
          "height": 35
        },
        "id": "u4_foAZwhsSS",
        "outputId": "cd714af0-0605-4fe8-d29a-ba5ecfd3b421"
      },
      "execution_count": null,
      "outputs": [
        {
          "output_type": "execute_result",
          "data": {
            "text/plain": [
              "'200'"
            ],
            "application/vnd.google.colaboratory.intrinsic+json": {
              "type": "string"
            }
          },
          "metadata": {},
          "execution_count": 10
        }
      ]
    },
    {
      "cell_type": "markdown",
      "source": [
        "Snappy vs GZIP"
      ],
      "metadata": {
        "id": "h27zyxOP5Rpj"
      }
    },
    {
      "cell_type": "code",
      "source": [
        "location_df.write.format('CSV').option('compression','snappy').save('/content/sample_data/test')\n"
      ],
      "metadata": {
        "id": "fHNLctGkjFon"
      },
      "execution_count": null,
      "outputs": []
    },
    {
      "cell_type": "code",
      "source": [
        "location_df.write.format('CSV').option('compression','gzip').save('/content/sample_data/test/test2')"
      ],
      "metadata": {
        "id": "BykQ9MAm44OR"
      },
      "execution_count": null,
      "outputs": []
    },
    {
      "cell_type": "code",
      "source": [
        "!ls -lrth sample_data/test"
      ],
      "metadata": {
        "colab": {
          "base_uri": "https://localhost:8080/"
        },
        "id": "1cF7jpog3ywh",
        "outputId": "43d05162-aa18-4bb5-937f-1f6bef5dcb98"
      },
      "execution_count": null,
      "outputs": [
        {
          "output_type": "stream",
          "name": "stdout",
          "text": [
            "total 8.0K\n",
            "-rw-r--r-- 1 root root  137 Nov  5 11:35 part-00000-61052f39-9e1b-4c2e-863a-4c59d598d038-c000.csv.snappy\n",
            "-rw-r--r-- 1 root root    0 Nov  5 11:35 _SUCCESS\n",
            "drwxr-xr-x 2 root root 4.0K Nov  5 11:35 test2\n"
          ]
        }
      ]
    },
    {
      "cell_type": "code",
      "source": [
        "!ls -lrth sample_data/test/test2"
      ],
      "metadata": {
        "colab": {
          "base_uri": "https://localhost:8080/"
        },
        "id": "9BvUrk0u4jq1",
        "outputId": "df953905-d6c3-4ad4-ff7a-4f27b3e3b521"
      },
      "execution_count": null,
      "outputs": [
        {
          "output_type": "stream",
          "name": "stdout",
          "text": [
            "total 4.0K\n",
            "-rw-r--r-- 1 root root 123 Nov  5 11:35 part-00000-017807fc-057b-40a3-9a22-cdd60ae36ccc-c000.csv.gz\n",
            "-rw-r--r-- 1 root root   0 Nov  5 11:35 _SUCCESS\n"
          ]
        }
      ]
    },
    {
      "cell_type": "markdown",
      "source": [
        "    Pyspark SQL functions Split"
      ],
      "metadata": {
        "id": "osHFsmOl5U-G"
      }
    },
    {
      "cell_type": "code",
      "source": [
        "from pyspark.sql.functions import split"
      ],
      "metadata": {
        "id": "N4or2TWh6cfZ"
      },
      "execution_count": null,
      "outputs": []
    },
    {
      "cell_type": "code",
      "source": [
        "transactions=[\n",
        "    ('Apple-ipad-laptop',100,250,None),\n",
        "    ('Samsung-mobile-watch',200,None,1),\n",
        "    ('mi-earbud-sweep',200,150,3),\n",
        "    ('OnePlus-earbud-switch',300,140,2),\n",
        "    ('Oppo-camera-lens',None,170,2),\n",
        "    ('Realme-bloot-specification',300,None,4),\n",
        "    ('Iqoo-camera-loot',400,None,4),\n",
        "    (None,200,None,None)\n",
        "]\n",
        "transDF=spark.createDataFrame(transactions,['product','quantity','price','store'])\n",
        "transDF.show()"
      ],
      "metadata": {
        "colab": {
          "base_uri": "https://localhost:8080/"
        },
        "id": "V-Y_MA8s5DAK",
        "outputId": "5c6adb54-898e-44d8-97ad-7a93208a966d"
      },
      "execution_count": null,
      "outputs": [
        {
          "output_type": "stream",
          "name": "stdout",
          "text": [
            "+--------------------+--------+-----+-----+\n",
            "|             product|quantity|price|store|\n",
            "+--------------------+--------+-----+-----+\n",
            "|   Apple-ipad-laptop|     100|  250| NULL|\n",
            "|Samsung-mobile-watch|     200| NULL|    1|\n",
            "|     mi-earbud-sweep|     200|  150|    3|\n",
            "|OnePlus-earbud-sw...|     300|  140|    2|\n",
            "|    Oppo-camera-lens|    NULL|  170|    2|\n",
            "|Realme-bloot-spec...|     300| NULL|    4|\n",
            "|    Iqoo-camera-loot|     400| NULL|    4|\n",
            "|                NULL|     200| NULL| NULL|\n",
            "+--------------------+--------+-----+-----+\n",
            "\n"
          ]
        }
      ]
    },
    {
      "cell_type": "markdown",
      "source": [
        "    Method1"
      ],
      "metadata": {
        "id": "dXdTfvnB8Li3"
      }
    },
    {
      "cell_type": "code",
      "source": [
        "product=transDF.withColumn('category1',split('product','-').getItem(0)).withColumn('category2',split('product','-').getItem(1)).withColumn('category3',split('product','-').getItem(2))\n",
        "product.show()"
      ],
      "metadata": {
        "colab": {
          "base_uri": "https://localhost:8080/"
        },
        "id": "pdo1nHr76w8j",
        "outputId": "cc640e2e-4e40-45c9-ffac-60fde1001aeb"
      },
      "execution_count": null,
      "outputs": [
        {
          "output_type": "stream",
          "name": "stdout",
          "text": [
            "+--------------------+--------+-----+-----+---------+---------+-------------+\n",
            "|             product|quantity|price|store|category1|category2|    category3|\n",
            "+--------------------+--------+-----+-----+---------+---------+-------------+\n",
            "|   Apple-ipad-laptop|     100|  250| NULL|    Apple|     ipad|       laptop|\n",
            "|Samsung-mobile-watch|     200| NULL|    1|  Samsung|   mobile|        watch|\n",
            "|     mi-earbud-sweep|     200|  150|    3|       mi|   earbud|        sweep|\n",
            "|OnePlus-earbud-sw...|     300|  140|    2|  OnePlus|   earbud|       switch|\n",
            "|    Oppo-camera-lens|    NULL|  170|    2|     Oppo|   camera|         lens|\n",
            "|Realme-bloot-spec...|     300| NULL|    4|   Realme|    bloot|specification|\n",
            "|    Iqoo-camera-loot|     400| NULL|    4|     Iqoo|   camera|         loot|\n",
            "|                NULL|     200| NULL| NULL|     NULL|     NULL|         NULL|\n",
            "+--------------------+--------+-----+-----+---------+---------+-------------+\n",
            "\n"
          ]
        }
      ]
    },
    {
      "cell_type": "markdown",
      "source": [
        "    Method2"
      ],
      "metadata": {
        "id": "APE-QzR58Nvh"
      }
    },
    {
      "cell_type": "code",
      "source": [
        "split_column=split(transDF['product'],'-')\n",
        "Product2=transDF.withColumn('category1',split_column.getItem(0)).withColumn('category2',split_column.getItem(1)).withColumn('category3',split_column.getItem(2))\\\n",
        ".drop('product')\n",
        "Product2.show()"
      ],
      "metadata": {
        "colab": {
          "base_uri": "https://localhost:8080/"
        },
        "id": "-zfJvSad7msD",
        "outputId": "e01020bd-e2cf-4495-c382-4be27593d318"
      },
      "execution_count": null,
      "outputs": [
        {
          "output_type": "stream",
          "name": "stdout",
          "text": [
            "+--------+-----+-----+---------+---------+-------------+\n",
            "|quantity|price|store|category1|category2|    category3|\n",
            "+--------+-----+-----+---------+---------+-------------+\n",
            "|     100|  250| NULL|    Apple|     ipad|       laptop|\n",
            "|     200| NULL|    1|  Samsung|   mobile|        watch|\n",
            "|     200|  150|    3|       mi|   earbud|        sweep|\n",
            "|     300|  140|    2|  OnePlus|   earbud|       switch|\n",
            "|    NULL|  170|    2|     Oppo|   camera|         lens|\n",
            "|     300| NULL|    4|   Realme|    bloot|specification|\n",
            "|     400| NULL|    4|     Iqoo|   camera|         loot|\n",
            "|     200| NULL| NULL|     NULL|     NULL|         NULL|\n",
            "+--------+-----+-----+---------+---------+-------------+\n",
            "\n"
          ]
        }
      ]
    },
    {
      "cell_type": "markdown",
      "source": [
        "    Method3"
      ],
      "metadata": {
        "id": "HyyYKngO90Js"
      }
    },
    {
      "cell_type": "code",
      "source": [
        "split_column=split(transDF['product'],'-')\n",
        "e=transDF.select('product','quantity','price','store',split_column.getItem(0).alias('category1'),split_column.getItem(1).alias('category2'),split_column.getItem(2).alias('category3'))"
      ],
      "metadata": {
        "id": "_tuYpchq8WtT"
      },
      "execution_count": null,
      "outputs": []
    },
    {
      "cell_type": "code",
      "source": [
        "e.show()"
      ],
      "metadata": {
        "colab": {
          "base_uri": "https://localhost:8080/"
        },
        "id": "bdOlWPFgunoN",
        "outputId": "e1b0d135-742b-4f8f-fe2e-57c0c0ce7ebc"
      },
      "execution_count": null,
      "outputs": [
        {
          "output_type": "stream",
          "name": "stdout",
          "text": [
            "+--------------------+--------+-----+-----+---------+---------+-------------+\n",
            "|             product|quantity|price|store|category1|category2|    category3|\n",
            "+--------------------+--------+-----+-----+---------+---------+-------------+\n",
            "|   Apple-ipad-laptop|     100|  250| NULL|    Apple|     ipad|       laptop|\n",
            "|Samsung-mobile-watch|     200| NULL|    1|  Samsung|   mobile|        watch|\n",
            "|     mi-earbud-sweep|     200|  150|    3|       mi|   earbud|        sweep|\n",
            "|OnePlus-earbud-sw...|     300|  140|    2|  OnePlus|   earbud|       switch|\n",
            "|    Oppo-camera-lens|    NULL|  170|    2|     Oppo|   camera|         lens|\n",
            "|Realme-bloot-spec...|     300| NULL|    4|   Realme|    bloot|specification|\n",
            "|    Iqoo-camera-loot|     400| NULL|    4|     Iqoo|   camera|         loot|\n",
            "|                NULL|     200| NULL| NULL|     NULL|     NULL|         NULL|\n",
            "+--------------------+--------+-----+-----+---------+---------+-------------+\n",
            "\n"
          ]
        }
      ]
    },
    {
      "cell_type": "markdown",
      "source": [
        "    Join(string)"
      ],
      "metadata": {
        "id": "xt8EItiXcljg"
      }
    },
    {
      "cell_type": "code",
      "source": [
        "x=transDF.columns\n",
        "stre=','.join(x)\n",
        "print(stre)"
      ],
      "metadata": {
        "colab": {
          "base_uri": "https://localhost:8080/"
        },
        "id": "9nnaF1Y5cky7",
        "outputId": "b5071476-1d85-4d18-df3f-3a3b060aa1e8"
      },
      "execution_count": null,
      "outputs": [
        {
          "output_type": "stream",
          "name": "stdout",
          "text": [
            "product,quantity,price,store\n"
          ]
        }
      ]
    },
    {
      "cell_type": "code",
      "source": [
        "join_cond=\" AND \".join(list(map(lambda y:('Target.'+y+'='+'source.'+y),x)))\n",
        "print(join_cond)"
      ],
      "metadata": {
        "colab": {
          "base_uri": "https://localhost:8080/"
        },
        "id": "7nUeohw_ckuy",
        "outputId": "5a146e14-39bb-4a81-b20a-c5c41f98d503"
      },
      "execution_count": null,
      "outputs": [
        {
          "output_type": "stream",
          "name": "stdout",
          "text": [
            "Target.product=source.product AND Target.quantity=source.quantity AND Target.price=source.price AND Target.store=source.store\n"
          ]
        }
      ]
    },
    {
      "cell_type": "code",
      "source": [
        "location_df.groupby('store_name').agg({'quantity':'sum'}).show()"
      ],
      "metadata": {
        "colab": {
          "base_uri": "https://localhost:8080/"
        },
        "id": "c0IgHoshcko-",
        "outputId": "6d9dd4af-6797-4d5c-84d0-9c0d352b71de"
      },
      "execution_count": null,
      "outputs": [
        {
          "output_type": "stream",
          "name": "stdout",
          "text": [
            "+----------+-------------+\n",
            "|store_name|sum(quantity)|\n",
            "+----------+-------------+\n",
            "| Allahabad|          300|\n",
            "|  Bhemghal|          500|\n",
            "|     Delhi|          700|\n",
            "|    Chagal|          200|\n",
            "+----------+-------------+\n",
            "\n"
          ]
        }
      ]
    },
    {
      "cell_type": "code",
      "source": [
        "e.write.option('header',True).partitionBy('store').mode('overwrite').format('csv').save('/content/sample_data/test/test3')"
      ],
      "metadata": {
        "id": "UoDpmdQlth-Z"
      },
      "execution_count": null,
      "outputs": []
    },
    {
      "cell_type": "code",
      "source": [
        "f=spark.read.option('header',True).csv('/content/sample_data/test/test3')\n",
        "f.show()"
      ],
      "metadata": {
        "colab": {
          "base_uri": "https://localhost:8080/"
        },
        "id": "pdYqCjdtckia",
        "outputId": "753b3af4-aee5-4cff-d959-73ea3c85812b"
      },
      "execution_count": null,
      "outputs": [
        {
          "output_type": "stream",
          "name": "stdout",
          "text": [
            "+--------------------+--------+-----+---------+---------+-------------+-----+\n",
            "|             product|quantity|price|category1|category2|    category3|store|\n",
            "+--------------------+--------+-----+---------+---------+-------------+-----+\n",
            "|Realme-bloot-spec...|     300| NULL|   Realme|    bloot|specification|    4|\n",
            "|    Iqoo-camera-loot|     400| NULL|     Iqoo|   camera|         loot|    4|\n",
            "|OnePlus-earbud-sw...|     300|  140|  OnePlus|   earbud|       switch|    2|\n",
            "|Samsung-mobile-watch|     200| NULL|  Samsung|   mobile|        watch|    1|\n",
            "|   Apple-ipad-laptop|     100|  250|    Apple|     ipad|       laptop| NULL|\n",
            "|     mi-earbud-sweep|     200|  150|       mi|   earbud|        sweep|    3|\n",
            "|    Oppo-camera-lens|    NULL|  170|     Oppo|   camera|         lens|    2|\n",
            "|                NULL|     200| NULL|     NULL|     NULL|         NULL| NULL|\n",
            "+--------------------+--------+-----+---------+---------+-------------+-----+\n",
            "\n"
          ]
        }
      ]
    },
    {
      "cell_type": "markdown",
      "source": [
        "    Null values"
      ],
      "metadata": {
        "id": "f-zYqjrfz-XH"
      }
    },
    {
      "cell_type": "code",
      "source": [
        "from pyspark.sql.functions import col,isnull,isnan,when,count\n",
        "hNull=product.select([count(when(isnull(c),c)).alias(c) for c in product.columns])\n",
        "hNull.show()"
      ],
      "metadata": {
        "colab": {
          "base_uri": "https://localhost:8080/"
        },
        "id": "eB65bjRAcked",
        "outputId": "dd5b0f5e-3282-4602-97b3-4b218367734d"
      },
      "execution_count": null,
      "outputs": [
        {
          "output_type": "stream",
          "name": "stdout",
          "text": [
            "+-------+--------+-----+-----+---------+---------+---------+\n",
            "|product|quantity|price|store|category1|category2|category3|\n",
            "+-------+--------+-----+-----+---------+---------+---------+\n",
            "|      1|       1|    4|    2|        1|        1|        1|\n",
            "+-------+--------+-----+-----+---------+---------+---------+\n",
            "\n"
          ]
        }
      ]
    },
    {
      "cell_type": "markdown",
      "source": [
        "    The End"
      ],
      "metadata": {
        "id": "r5LTvIuTraTT"
      }
    }
  ]
}