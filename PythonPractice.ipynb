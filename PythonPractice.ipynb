{
  "nbformat": 4,
  "nbformat_minor": 0,
  "metadata": {
    "colab": {
      "provenance": [],
      "authorship_tag": "ABX9TyOhTBMYICd4tWPpmJfNS67j",
      "include_colab_link": true
    },
    "kernelspec": {
      "name": "python3",
      "display_name": "Python 3"
    },
    "language_info": {
      "name": "python"
    }
  },
  "cells": [
    {
      "cell_type": "markdown",
      "metadata": {
        "id": "view-in-github",
        "colab_type": "text"
      },
      "source": [
        "<a href=\"https://colab.research.google.com/github/sandeepgundeboina/SmallApps/blob/main/PythonPractice.ipynb\" target=\"_parent\"><img src=\"https://colab.research.google.com/assets/colab-badge.svg\" alt=\"Open In Colab\"/></a>"
      ]
    },
    {
      "cell_type": "code",
      "execution_count": null,
      "metadata": {
        "colab": {
          "base_uri": "https://localhost:8080/"
        },
        "id": "kkFIf-lVqiWH",
        "outputId": "784e0dc0-10cd-4de5-c937-c2947e6bf1ae"
      },
      "outputs": [
        {
          "output_type": "stream",
          "name": "stdout",
          "text": [
            "[23, 29, 31]\n"
          ]
        }
      ],
      "source": [
        "prime=[]\n",
        "for a in range(20,51):\n",
        "    for b in range(2,a):\n",
        "        if a%b==0:\n",
        "            #print(a, \"is divided by\",b)\n",
        "            break\n",
        "        else:\n",
        "            continue\n",
        "    else:\n",
        "        prime.append(a)\n",
        "        if len(prime)==3:\n",
        "            break\n",
        "print(prime)\n"
      ]
    },
    {
      "cell_type": "code",
      "source": [
        "a='aaaabbccc'\n",
        "d=set(a)\n",
        "f={x:a.count(x) for x in d}\n",
        "print(max(f,key=f.get))"
      ],
      "metadata": {
        "colab": {
          "base_uri": "https://localhost:8080/"
        },
        "id": "_u3GtCDKRc88",
        "outputId": "fc23a658-e123-44b5-9d4c-d44c0c60a272"
      },
      "execution_count": null,
      "outputs": [
        {
          "output_type": "stream",
          "name": "stdout",
          "text": [
            "a\n"
          ]
        }
      ]
    },
    {
      "cell_type": "code",
      "source": [
        "print(c)"
      ],
      "metadata": {
        "colab": {
          "base_uri": "https://localhost:8080/"
        },
        "id": "KDLYY0uZRjZc",
        "outputId": "cc0024a8-734d-4857-be4a-ff5d7b498f3e"
      },
      "execution_count": null,
      "outputs": [
        {
          "output_type": "stream",
          "name": "stdout",
          "text": [
            "['aaaabbcc']\n"
          ]
        }
      ]
    },
    {
      "cell_type": "code",
      "source": [
        "# prompt: how to find max used word,letter  for a given sentence\n",
        "\n",
        "from collections import Counter\n",
        "import re\n",
        "\n",
        "sentence = \"This is a sample word with a sample sentence to test the sample for target test. This sentence is a sample.\"\n",
        "\n",
        "# Find the most frequent word\n",
        "words = re.findall(r'\\b\\w+\\b', sentence.lower())  # Extract words and convert to lowercase\n",
        "word_counts = Counter(words)\n",
        "most_common_word = word_counts.most_common(1)[0][0]\n",
        "\n",
        "print(f\"The sentence is: '{sentence}'\")\n",
        "print(f\"The most frequent word is: '{most_common_word}'\")\n",
        "\n",
        "# Find the most frequent letter\n",
        "letters = [char for char in sentence.lower() if char.isalpha()] # Extract letters and convert to lowercase\n",
        "letter_counts = Counter(letters)\n",
        "most_common_letter = letter_counts.most_common(1)[0][0]\n",
        "\n",
        "print(f\"The most frequent letter is: '{most_common_letter}'\")\n"
      ],
      "metadata": {
        "colab": {
          "base_uri": "https://localhost:8080/"
        },
        "id": "365x4gZzRmFu",
        "outputId": "e4ef8bfd-e060-4482-b981-db0fea410347"
      },
      "execution_count": null,
      "outputs": [
        {
          "output_type": "stream",
          "name": "stdout",
          "text": [
            "The sentence is: 'This is a sample word with a sample sentence to test the sample for target test. This sentence is a sample.'\n",
            "The most frequent word is: 'sample'\n",
            "The most frequent letter is: 'e'\n"
          ]
        }
      ]
    },
    {
      "cell_type": "code",
      "source": [],
      "metadata": {
        "id": "Ulu-cBlSTSh1"
      },
      "execution_count": null,
      "outputs": []
    }
  ]
}