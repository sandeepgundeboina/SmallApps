{
  "nbformat": 4,
  "nbformat_minor": 0,
  "metadata": {
    "colab": {
      "provenance": [],
      "mount_file_id": "1JADlr6biEQRca79tVvQ0vl0J7aAJg9nt",
      "authorship_tag": "ABX9TyOBMcDL3D2AkLdC/vogpmML"
    },
    "kernelspec": {
      "name": "python3",
      "display_name": "Python 3"
    },
    "language_info": {
      "name": "python"
    }
  },
  "cells": [
    {
      "cell_type": "code",
      "execution_count": 1,
      "metadata": {
        "colab": {
          "base_uri": "https://localhost:8080/"
        },
        "id": "PS-H9HcQcO6C",
        "outputId": "d81493ad-aebf-46fe-b3ff-7aad25251ef2"
      },
      "outputs": [
        {
          "output_type": "stream",
          "name": "stdout",
          "text": [
            "Requirement already satisfied: pyspark in /usr/local/lib/python3.11/dist-packages (3.5.1)\n",
            "Requirement already satisfied: py4j==0.10.9.7 in /usr/local/lib/python3.11/dist-packages (from pyspark) (0.10.9.7)\n"
          ]
        }
      ],
      "source": [
        "!pip install pyspark\n",
        "import pyspark\n",
        "from pyspark.sql import SparkSession\n",
        "spark = SparkSession.builder.appName('SparkOlaEDA.com').getOrCreate()"
      ]
    },
    {
      "cell_type": "code",
      "source": [
        "spark"
      ],
      "metadata": {
        "colab": {
          "base_uri": "https://localhost:8080/",
          "height": 219
        },
        "id": "8-_i_YFLckXY",
        "outputId": "8f5e27d9-4984-42d9-c516-926201c4bde1"
      },
      "execution_count": 2,
      "outputs": [
        {
          "output_type": "execute_result",
          "data": {
            "text/plain": [
              "<pyspark.sql.session.SparkSession at 0x7a79e4f9c1d0>"
            ],
            "text/html": [
              "\n",
              "            <div>\n",
              "                <p><b>SparkSession - in-memory</b></p>\n",
              "                \n",
              "        <div>\n",
              "            <p><b>SparkContext</b></p>\n",
              "\n",
              "            <p><a href=\"http://f3220263c796:4040\">Spark UI</a></p>\n",
              "\n",
              "            <dl>\n",
              "              <dt>Version</dt>\n",
              "                <dd><code>v3.5.1</code></dd>\n",
              "              <dt>Master</dt>\n",
              "                <dd><code>local[*]</code></dd>\n",
              "              <dt>AppName</dt>\n",
              "                <dd><code>SparkOlaEDA.com</code></dd>\n",
              "            </dl>\n",
              "        </div>\n",
              "        \n",
              "            </div>\n",
              "        "
            ]
          },
          "metadata": {},
          "execution_count": 2
        }
      ]
    },
    {
      "cell_type": "code",
      "source": [
        "df=spark.read.csv('/content/drive/MyDrive/Abc/Ola_data/Bengaluru Ola.csv',header=True,inferSchema=True)\n",
        "df.show(5)"
      ],
      "metadata": {
        "colab": {
          "base_uri": "https://localhost:8080/"
        },
        "id": "E3NP4BdccnIS",
        "outputId": "66b5903d-70d4-41f2-885e-acbd04499e6c"
      },
      "execution_count": 3,
      "outputs": [
        {
          "output_type": "stream",
          "name": "stdout",
          "text": [
            "+----------+-------------------+----------+-------------------+-----------+------------+---------------+-------------+--------+--------+----------------------+---------------------------------+-------------------------+-------------------------------+----------------+-----------------------+-------------+--------------+-------------+--------------+---------------+\n",
            "|      Date|               Time|Booking ID|     Booking Status|Customer ID|Vehicle Type|Pickup Location|Drop Location|Avg VTAT|Avg CTAT|Cancelled  by Customer|Reason for Cancelling by Customer|Cancelled Rides by Driver|Reason for Cancelling by Driver|Incomplete Rides|Incomplete Rides Reason|Booking Value|Payment Method|Ride Distance|Driver Ratings|Customer Rating|\n",
            "+----------+-------------------+----------+-------------------+-----------+------------+---------------+-------------+--------+--------+----------------------+---------------------------------+-------------------------+-------------------------------+----------------+-----------------------+-------------+--------------+-------------+--------------+---------------+\n",
            "|28/01/2024|2025-06-05 06:00:00|CNR1721175|            Success|     329258|        Auto|         Area-3|       Area-2|    5.42|   18.46|                     0|                             NULL|                        0|                           NULL|               0|                   NULL|       868.06|        Wallet|         28.5|           4.4|            4.4|\n",
            "|26/01/2024|2025-06-05 03:00:00|CNR2871422|Cancelled by Driver|     201414|        Mini|         Area-7|       Area-6|    NULL|    NULL|                     0|                             NULL|                        1|           The customer was ...|               0|                   NULL|         NULL|          NULL|         NULL|          NULL|           NULL|\n",
            "|15/01/2024|2025-06-05 16:00:00|CNR6875935|Cancelled by Driver|     301629|        Bike|        Area-40|      Area-24|    NULL|    NULL|                     0|                             NULL|                        1|           Personal & Car re...|               0|                   NULL|         NULL|          NULL|         NULL|          NULL|           NULL|\n",
            "|02/01/2024|2025-06-05 22:00:00|CNR6798834|Cancelled by Driver|     319684| Prime Sedan|        Area-11|      Area-24|    NULL|    NULL|                     0|                             NULL|                        1|           The customer was ...|               0|                   NULL|         NULL|          NULL|         NULL|          NULL|           NULL|\n",
            "|30/01/2024|2025-06-05 22:00:00|CNR9661713|         Incomplete|     330283|        Bike|        Area-41|      Area-45|    NULL|    NULL|                     0|                             NULL|                        0|                           NULL|               1|            Other Issue|         NULL|          NULL|         NULL|          NULL|           NULL|\n",
            "+----------+-------------------+----------+-------------------+-----------+------------+---------------+-------------+--------+--------+----------------------+---------------------------------+-------------------------+-------------------------------+----------------+-----------------------+-------------+--------------+-------------+--------------+---------------+\n",
            "only showing top 5 rows\n",
            "\n"
          ]
        }
      ]
    },
    {
      "cell_type": "code",
      "source": [
        "df.dtypes"
      ],
      "metadata": {
        "colab": {
          "base_uri": "https://localhost:8080/"
        },
        "id": "9ZSCZ8whcvoG",
        "outputId": "6acef6d3-e7ec-4d01-9fe1-e23dea2d541a"
      },
      "execution_count": 4,
      "outputs": [
        {
          "output_type": "execute_result",
          "data": {
            "text/plain": [
              "[('Date', 'string'),\n",
              " ('Time', 'timestamp'),\n",
              " ('Booking ID', 'string'),\n",
              " ('Booking Status', 'string'),\n",
              " ('Customer ID', 'int'),\n",
              " ('Vehicle Type', 'string'),\n",
              " ('Pickup Location', 'string'),\n",
              " ('Drop Location', 'string'),\n",
              " ('Avg VTAT', 'double'),\n",
              " ('Avg CTAT', 'double'),\n",
              " ('Cancelled  by Customer', 'int'),\n",
              " ('Reason for Cancelling by Customer', 'string'),\n",
              " ('Cancelled Rides by Driver', 'int'),\n",
              " ('Reason for Cancelling by Driver', 'string'),\n",
              " ('Incomplete Rides', 'int'),\n",
              " ('Incomplete Rides Reason', 'string'),\n",
              " ('Booking Value', 'double'),\n",
              " ('Payment Method', 'string'),\n",
              " ('Ride Distance', 'double'),\n",
              " ('Driver Ratings', 'double'),\n",
              " ('Customer Rating', 'double')]"
            ]
          },
          "metadata": {},
          "execution_count": 4
        }
      ]
    },
    {
      "cell_type": "code",
      "source": [
        "from pyspark.sql.functions import *"
      ],
      "metadata": {
        "id": "4Gk8e4dWm_Nx"
      },
      "execution_count": 5,
      "outputs": []
    },
    {
      "cell_type": "code",
      "source": [
        "df.groupBy('Booking Status').count().show()"
      ],
      "metadata": {
        "id": "NDRHMXAqiK1X",
        "colab": {
          "base_uri": "https://localhost:8080/"
        },
        "outputId": "e60a6669-bf83-4a8a-c060-29738dea86cd"
      },
      "execution_count": 6,
      "outputs": [
        {
          "output_type": "stream",
          "name": "stdout",
          "text": [
            "+--------------------+-----+\n",
            "|      Booking Status|count|\n",
            "+--------------------+-----+\n",
            "|             Success|33484|\n",
            "| Cancelled by Driver| 9610|\n",
            "|Cancelled by Cust...| 3799|\n",
            "|          Incomplete| 3106|\n",
            "+--------------------+-----+\n",
            "\n"
          ]
        }
      ]
    },
    {
      "cell_type": "code",
      "source": [
        "df1=df.groupBy('Vehicle Type').agg(round(sum(col('Booking Value')),3).alias('Total Revenue')).sort(col('total revenue').desc())\n",
        "df1.show()"
      ],
      "metadata": {
        "colab": {
          "base_uri": "https://localhost:8080/"
        },
        "id": "UIe_w2BqiH5N",
        "outputId": "9889e667-6e2d-4143-c30b-036730bc35b1"
      },
      "execution_count": 7,
      "outputs": [
        {
          "output_type": "stream",
          "name": "stdout",
          "text": [
            "+------------+-------------+\n",
            "|Vehicle Type|Total Revenue|\n",
            "+------------+-------------+\n",
            "|        Bike|   4957790.69|\n",
            "| Prime Sedan|   4919408.86|\n",
            "|  Prime Plus|   4906974.66|\n",
            "|       eBike|   4886694.02|\n",
            "|   Prime SUV|   4884966.98|\n",
            "|        Auto|   4870612.58|\n",
            "|        Mini|    4840216.8|\n",
            "+------------+-------------+\n",
            "\n"
          ]
        }
      ]
    },
    {
      "cell_type": "markdown",
      "source": [
        "    All Successful rides"
      ],
      "metadata": {
        "id": "5cepgLJi3aga"
      }
    },
    {
      "cell_type": "code",
      "source": [
        "df_sucessful=df.where(col('Booking Status')=='Success')\n",
        "df_sucessful.count()"
      ],
      "metadata": {
        "colab": {
          "base_uri": "https://localhost:8080/"
        },
        "id": "l9UjD8u2iWw6",
        "outputId": "a679b061-1e17-42ce-cb7c-82adb9feab31"
      },
      "execution_count": 8,
      "outputs": [
        {
          "output_type": "execute_result",
          "data": {
            "text/plain": [
              "33484"
            ]
          },
          "metadata": {},
          "execution_count": 8
        }
      ]
    },
    {
      "cell_type": "markdown",
      "source": [
        "    Avg Distance of Each Vehcile Type"
      ],
      "metadata": {
        "id": "-rgU-IFB3fKH"
      }
    },
    {
      "cell_type": "code",
      "source": [
        "df_avg_dis=df.groupBy('Vehicle Type').agg(round(avg(col('Ride Distance')),3).alias('Average Distance')).sort(col('Average Distance').desc())\n",
        "df_avg_dis.show()"
      ],
      "metadata": {
        "colab": {
          "base_uri": "https://localhost:8080/"
        },
        "id": "aScZkIV4o_lp",
        "outputId": "aa0844ad-98e0-4cf9-c05e-8f807258b091"
      },
      "execution_count": 9,
      "outputs": [
        {
          "output_type": "stream",
          "name": "stdout",
          "text": [
            "+------------+----------------+\n",
            "|Vehicle Type|Average Distance|\n",
            "+------------+----------------+\n",
            "|        Auto|           25.74|\n",
            "|        Mini|          25.584|\n",
            "| Prime Sedan|          25.509|\n",
            "|        Bike|          25.411|\n",
            "|   Prime SUV|          25.396|\n",
            "|       eBike|          25.338|\n",
            "|  Prime Plus|          25.154|\n",
            "+------------+----------------+\n",
            "\n"
          ]
        }
      ]
    },
    {
      "cell_type": "markdown",
      "source": [
        "    No of rides Cancelled by Customers"
      ],
      "metadata": {
        "id": "f12WZ0d53o9-"
      }
    },
    {
      "cell_type": "code",
      "source": [
        "df_cancel=df.where(col('Cancelled  by Customer')==1)\n",
        "df_cancel.count()"
      ],
      "metadata": {
        "colab": {
          "base_uri": "https://localhost:8080/"
        },
        "id": "ESUF5N-ypPYS",
        "outputId": "94e2c349-f76e-403a-ec25-8185ab7c0c03"
      },
      "execution_count": 10,
      "outputs": [
        {
          "output_type": "execute_result",
          "data": {
            "text/plain": [
              "3799"
            ]
          },
          "metadata": {},
          "execution_count": 10
        }
      ]
    },
    {
      "cell_type": "markdown",
      "source": [
        "    Top 5 Customers based on the total Booking value"
      ],
      "metadata": {
        "id": "DJ-36qOX3sYR"
      }
    },
    {
      "cell_type": "code",
      "source": [
        "df_top_cust=df.groupBy('Customer ID').agg(round(sum(col('Booking Value')),2).alias('Value')).sort(col('Value').desc())\n",
        "df_top_cust.show(5)"
      ],
      "metadata": {
        "colab": {
          "base_uri": "https://localhost:8080/"
        },
        "id": "mYy6z2SEpc_E",
        "outputId": "d49c1ff0-4474-4f18-8b88-e644d0657147"
      },
      "execution_count": 11,
      "outputs": [
        {
          "output_type": "stream",
          "name": "stdout",
          "text": [
            "+-----------+-------+\n",
            "|Customer ID|  Value|\n",
            "+-----------+-------+\n",
            "|     580524| 5078.2|\n",
            "|     599413|4263.67|\n",
            "|     617275|3929.33|\n",
            "|     428477|3909.54|\n",
            "|     647438|3891.43|\n",
            "+-----------+-------+\n",
            "only showing top 5 rows\n",
            "\n"
          ]
        }
      ]
    },
    {
      "cell_type": "markdown",
      "source": [
        "    Cancelled by Drivers with reason Personal & Car related issues"
      ],
      "metadata": {
        "id": "ynsqH4Rf4NFq"
      }
    },
    {
      "cell_type": "code",
      "source": [
        "df_driver=df.where((col('Cancelled Rides by Driver')==1)&(col('Reason for Cancelling by Driver').like('%Personal%')))\n",
        "df_driver.show(5)"
      ],
      "metadata": {
        "colab": {
          "base_uri": "https://localhost:8080/"
        },
        "id": "tHef0_RTp4uA",
        "outputId": "d8b58af4-c8c9-45f4-cda9-b2bf106a9167"
      },
      "execution_count": 12,
      "outputs": [
        {
          "output_type": "stream",
          "name": "stdout",
          "text": [
            "+----------+-------------------+----------+-------------------+-----------+------------+---------------+-------------+--------+--------+----------------------+---------------------------------+-------------------------+-------------------------------+----------------+-----------------------+-------------+--------------+-------------+--------------+---------------+\n",
            "|      Date|               Time|Booking ID|     Booking Status|Customer ID|Vehicle Type|Pickup Location|Drop Location|Avg VTAT|Avg CTAT|Cancelled  by Customer|Reason for Cancelling by Customer|Cancelled Rides by Driver|Reason for Cancelling by Driver|Incomplete Rides|Incomplete Rides Reason|Booking Value|Payment Method|Ride Distance|Driver Ratings|Customer Rating|\n",
            "+----------+-------------------+----------+-------------------+-----------+------------+---------------+-------------+--------+--------+----------------------+---------------------------------+-------------------------+-------------------------------+----------------+-----------------------+-------------+--------------+-------------+--------------+---------------+\n",
            "|15/01/2024|2025-06-05 16:00:00|CNR6875935|Cancelled by Driver|     301629|        Bike|        Area-40|      Area-24|    NULL|    NULL|                     0|                             NULL|                        1|           Personal & Car re...|               0|                   NULL|         NULL|          NULL|         NULL|          NULL|           NULL|\n",
            "|10/01/2024|2025-06-05 19:00:00|CNR6366676|Cancelled by Driver|     777737|       eBike|        Area-41|       Area-7|    NULL|    NULL|                     0|                             NULL|                        1|           Personal & Car re...|               0|                   NULL|         NULL|          NULL|         NULL|          NULL|           NULL|\n",
            "|20/01/2024|2025-06-05 16:00:00|CNR7754116|Cancelled by Driver|     489244|        Mini|         Area-4|      Area-42|    NULL|    NULL|                     0|                             NULL|                        1|           Personal & Car re...|               0|                   NULL|         NULL|          NULL|         NULL|          NULL|           NULL|\n",
            "|04/01/2024|2025-06-05 20:00:00|CNR9592304|Cancelled by Driver|     399628|        Mini|        Area-42|      Area-44|    NULL|    NULL|                     0|                             NULL|                        1|           Personal & Car re...|               0|                   NULL|         NULL|          NULL|         NULL|          NULL|           NULL|\n",
            "|16/01/2024|2025-06-05 21:00:00|CNR8149238|Cancelled by Driver|     238948|        Auto|        Area-42|      Area-11|    NULL|    NULL|                     0|                             NULL|                        1|           Personal & Car re...|               0|                   NULL|         NULL|          NULL|         NULL|          NULL|           NULL|\n",
            "+----------+-------------------+----------+-------------------+-----------+------------+---------------+-------------+--------+--------+----------------------+---------------------------------+-------------------------+-------------------------------+----------------+-----------------------+-------------+--------------+-------------+--------------+---------------+\n",
            "only showing top 5 rows\n",
            "\n"
          ]
        }
      ]
    },
    {
      "cell_type": "code",
      "source": [
        "df_driver.count()"
      ],
      "metadata": {
        "colab": {
          "base_uri": "https://localhost:8080/"
        },
        "id": "mfB19HqbqMBX",
        "outputId": "30b799cc-45f0-4b03-ebb3-58dd9f31a7c8"
      },
      "execution_count": 13,
      "outputs": [
        {
          "output_type": "execute_result",
          "data": {
            "text/plain": [
              "2413"
            ]
          },
          "metadata": {},
          "execution_count": 13
        }
      ]
    },
    {
      "cell_type": "markdown",
      "source": [
        "    Max and Min Ratings for Drivers"
      ],
      "metadata": {
        "id": "KkNsREgw4d2I"
      }
    },
    {
      "cell_type": "code",
      "source": [
        "df_max_min=df.agg(max(col('Driver Ratings')).alias('Max_Rating'),min(col('Driver Ratings')).alias('Min_Rating'))\n",
        "df_max_min.show()"
      ],
      "metadata": {
        "colab": {
          "base_uri": "https://localhost:8080/"
        },
        "id": "E-eAvgjurBPv",
        "outputId": "fefe08c9-1686-48de-9616-51f4cf43dd90"
      },
      "execution_count": 14,
      "outputs": [
        {
          "output_type": "stream",
          "name": "stdout",
          "text": [
            "+----------+----------+\n",
            "|Max_Rating|Min_Rating|\n",
            "+----------+----------+\n",
            "|       5.0|       3.0|\n",
            "+----------+----------+\n",
            "\n"
          ]
        }
      ]
    },
    {
      "cell_type": "markdown",
      "source": [
        "    No of Rides with UPI as Payment mode"
      ],
      "metadata": {
        "id": "Y5WKWbXH4lD0"
      }
    },
    {
      "cell_type": "code",
      "source": [
        "df_payment=df.where(col('Payment Method').like('%UPI%'))\n",
        "df_payment.count()"
      ],
      "metadata": {
        "colab": {
          "base_uri": "https://localhost:8080/"
        },
        "id": "vhiPUA7sraUq",
        "outputId": "2c1b2618-a43d-4b42-e034-64758eb6beff"
      },
      "execution_count": 15,
      "outputs": [
        {
          "output_type": "execute_result",
          "data": {
            "text/plain": [
              "8428"
            ]
          },
          "metadata": {},
          "execution_count": 15
        }
      ]
    },
    {
      "cell_type": "markdown",
      "source": [
        "    Avg Rating for each vechile type where Booking status is success"
      ],
      "metadata": {
        "id": "QVdHfAtZ4p25"
      }
    },
    {
      "cell_type": "code",
      "source": [
        "df_avg_rating=df.where(col('Booking Status')=='Success').groupBy('Vehicle Type')\\\n",
        "                .agg(round(avg(col('Customer Rating')),3).alias('Average Rating'))\\\n",
        "                .sort(col('Average Rating').desc())\n",
        "df_avg_rating.show()"
      ],
      "metadata": {
        "colab": {
          "base_uri": "https://localhost:8080/"
        },
        "id": "CZ8TQZS0r4Kq",
        "outputId": "df784e27-46a9-4802-d850-395045d30422"
      },
      "execution_count": 16,
      "outputs": [
        {
          "output_type": "stream",
          "name": "stdout",
          "text": [
            "+------------+--------------+\n",
            "|Vehicle Type|Average Rating|\n",
            "+------------+--------------+\n",
            "|   Prime SUV|         4.013|\n",
            "|  Prime Plus|         4.006|\n",
            "|        Auto|         4.006|\n",
            "|       eBike|           4.0|\n",
            "| Prime Sedan|         3.999|\n",
            "|        Bike|         3.996|\n",
            "|        Mini|         3.992|\n",
            "+------------+--------------+\n",
            "\n"
          ]
        }
      ]
    },
    {
      "cell_type": "markdown",
      "source": [
        "    Sum of Revenue generated for each vechile type"
      ],
      "metadata": {
        "id": "BCkWBhKo4xU6"
      }
    },
    {
      "cell_type": "code",
      "source": [
        "df_total_booking=df.groupBy('Vehicle Type').agg(round(sum(col('Booking Value')),2).alias('Total Revenue')).sort(col('Total Revenue'))\n",
        "df_total_booking.show()"
      ],
      "metadata": {
        "colab": {
          "base_uri": "https://localhost:8080/"
        },
        "id": "3BAGqLH4sHuR",
        "outputId": "4c3c1025-605d-4bb2-a17e-c989da0e36d1"
      },
      "execution_count": 17,
      "outputs": [
        {
          "output_type": "stream",
          "name": "stdout",
          "text": [
            "+------------+-------------+\n",
            "|Vehicle Type|Total Revenue|\n",
            "+------------+-------------+\n",
            "|        Mini|    4840216.8|\n",
            "|        Auto|   4870612.58|\n",
            "|   Prime SUV|   4884966.98|\n",
            "|       eBike|   4886694.02|\n",
            "|  Prime Plus|   4906974.66|\n",
            "| Prime Sedan|   4919408.86|\n",
            "|        Bike|   4957790.69|\n",
            "+------------+-------------+\n",
            "\n"
          ]
        }
      ]
    },
    {
      "cell_type": "markdown",
      "source": [
        "    Incomplete Rides,their Pickup Location and Reason"
      ],
      "metadata": {
        "id": "Mr1pFQe942uz"
      }
    },
    {
      "cell_type": "code",
      "source": [
        "df_reason=df.where(col('Booking Status')=='Incomplete')\n",
        "df_reason=df_reason.select('Vehicle Type','Pickup Location','Incomplete Rides Reason')"
      ],
      "metadata": {
        "id": "jACh-h8QtLF6"
      },
      "execution_count": 18,
      "outputs": []
    },
    {
      "cell_type": "code",
      "source": [
        "df_reason.show()"
      ],
      "metadata": {
        "colab": {
          "base_uri": "https://localhost:8080/"
        },
        "id": "PBZtNh0htzkh",
        "outputId": "ce46a7d9-9143-4975-96fe-db736e891f5b"
      },
      "execution_count": 19,
      "outputs": [
        {
          "output_type": "stream",
          "name": "stdout",
          "text": [
            "+------------+---------------+-----------------------+\n",
            "|Vehicle Type|Pickup Location|Incomplete Rides Reason|\n",
            "+------------+---------------+-----------------------+\n",
            "|        Bike|        Area-41|            Other Issue|\n",
            "|  Prime Plus|        Area-46|      Vehicle Breakdown|\n",
            "|       eBike|        Area-41|      Vehicle Breakdown|\n",
            "|        Mini|        Area-42|        Customer Demand|\n",
            "|   Prime SUV|         Area-3|            Other Issue|\n",
            "| Prime Sedan|        Area-15|      Vehicle Breakdown|\n",
            "|       eBike|        Area-10|      Vehicle Breakdown|\n",
            "|   Prime SUV|        Area-34|        Customer Demand|\n",
            "|  Prime Plus|        Area-34|            Other Issue|\n",
            "|   Prime SUV|        Area-29|        Customer Demand|\n",
            "|   Prime SUV|        Area-12|        Customer Demand|\n",
            "|        Auto|        Area-35|            Other Issue|\n",
            "|        Mini|        Area-24|            Other Issue|\n",
            "|        Mini|        Area-40|            Other Issue|\n",
            "|  Prime Plus|        Area-48|      Vehicle Breakdown|\n",
            "|       eBike|        Area-41|            Other Issue|\n",
            "|        Bike|        Area-48|      Vehicle Breakdown|\n",
            "| Prime Sedan|         Area-8|        Customer Demand|\n",
            "| Prime Sedan|        Area-11|            Other Issue|\n",
            "|  Prime Plus|        Area-34|            Other Issue|\n",
            "+------------+---------------+-----------------------+\n",
            "only showing top 20 rows\n",
            "\n"
          ]
        }
      ]
    },
    {
      "cell_type": "markdown",
      "source": [
        "**END OF CODE**"
      ],
      "metadata": {
        "id": "0C6rOzWd4_N0"
      }
    }
  ]
}