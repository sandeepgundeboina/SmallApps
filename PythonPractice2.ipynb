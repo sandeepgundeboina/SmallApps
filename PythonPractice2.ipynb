{
  "nbformat": 4,
  "nbformat_minor": 0,
  "metadata": {
    "colab": {
      "provenance": [],
      "authorship_tag": "ABX9TyN8GKkPoskAYdwWDm3oi5hW"
    },
    "kernelspec": {
      "name": "python3",
      "display_name": "Python 3"
    },
    "language_info": {
      "name": "python"
    }
  },
  "cells": [
    {
      "cell_type": "code",
      "execution_count": 1,
      "metadata": {
        "id": "o47bNJtqDoxN"
      },
      "outputs": [],
      "source": [
        "a=[4,4,4,5,5,5,5,5,7,6,6,6,8,8,0,9,1,2,3,3,3,2,2,4]\n",
        "b=set(a)"
      ]
    },
    {
      "cell_type": "code",
      "source": [
        "c=[]\n",
        "[c.append((num,a.count(num))) for num in b]\n",
        "print(c)"
      ],
      "metadata": {
        "colab": {
          "base_uri": "https://localhost:8080/"
        },
        "id": "q7W-VhgJERX3",
        "outputId": "8845f7ec-7ed4-4eee-f381-64702f4a7bff"
      },
      "execution_count": 7,
      "outputs": [
        {
          "output_type": "stream",
          "name": "stdout",
          "text": [
            "[(0, 1), (1, 1), (2, 3), (3, 3), (4, 4), (5, 5), (6, 3), (7, 1), (8, 2), (9, 1)]\n"
          ]
        }
      ]
    },
    {
      "cell_type": "code",
      "source": [
        "!pip install pyspark\n",
        "import pyspark\n",
        "from pyspark.sql import SparkSession\n",
        "spark=SparkSession.builder.appName('SparkPractice').getOrCreate()\n",
        "spark"
      ],
      "metadata": {
        "colab": {
          "base_uri": "https://localhost:8080/",
          "height": 254
        },
        "id": "gBWtx0eCEm39",
        "outputId": "6dde4837-102f-439b-aa63-9c42ace72721"
      },
      "execution_count": 8,
      "outputs": [
        {
          "output_type": "stream",
          "name": "stdout",
          "text": [
            "Requirement already satisfied: pyspark in /usr/local/lib/python3.11/dist-packages (3.5.1)\n",
            "Requirement already satisfied: py4j==0.10.9.7 in /usr/local/lib/python3.11/dist-packages (from pyspark) (0.10.9.7)\n"
          ]
        },
        {
          "output_type": "execute_result",
          "data": {
            "text/plain": [
              "<pyspark.sql.session.SparkSession at 0x7dee141c5dd0>"
            ],
            "text/html": [
              "\n",
              "            <div>\n",
              "                <p><b>SparkSession - in-memory</b></p>\n",
              "                \n",
              "        <div>\n",
              "            <p><b>SparkContext</b></p>\n",
              "\n",
              "            <p><a href=\"http://fb2703ecc207:4040\">Spark UI</a></p>\n",
              "\n",
              "            <dl>\n",
              "              <dt>Version</dt>\n",
              "                <dd><code>v3.5.1</code></dd>\n",
              "              <dt>Master</dt>\n",
              "                <dd><code>local[*]</code></dd>\n",
              "              <dt>AppName</dt>\n",
              "                <dd><code>SparkPractice</code></dd>\n",
              "            </dl>\n",
              "        </div>\n",
              "        \n",
              "            </div>\n",
              "        "
            ]
          },
          "metadata": {},
          "execution_count": 8
        }
      ]
    },
    {
      "cell_type": "code",
      "source": [
        "transactions=[\n",
        "    (4, 'Apples', 1.03),\n",
        "    (3, 'Apples', 2.68),\n",
        "    (4, 'Oranges', 4.72),\n",
        "    (1, 'Apples', 1.94),\n",
        "    (3, 'Bread', 3.07),\n",
        "    (1, 'Apples', 0.75),\n",
        "    (4, 'Bananas', 4.71),\n",
        "    (2, 'Bread', 2.86),\n",
        "    (3, 'Bread', 2.61),\n",
        "    (3, 'Apples', 0.64),\n",
        "    (1, 'Oranges', 1.60),\n",
        "    (1, 'Bread', 1.50)\n",
        "]\n",
        "\n",
        "schema=['store_id', 'product', 'price']\n",
        "df1=spark.createDataFrame(data=transactions, schema=schema)\n",
        "df1.show()"
      ],
      "metadata": {
        "colab": {
          "base_uri": "https://localhost:8080/"
        },
        "id": "gSmQWEk6F4YN",
        "outputId": "a6527f6b-79e4-4335-a0cb-2fdb789fa9b4"
      },
      "execution_count": 9,
      "outputs": [
        {
          "output_type": "stream",
          "name": "stdout",
          "text": [
            "+--------+-------+-----+\n",
            "|store_id|product|price|\n",
            "+--------+-------+-----+\n",
            "|       4| Apples| 1.03|\n",
            "|       3| Apples| 2.68|\n",
            "|       4|Oranges| 4.72|\n",
            "|       1| Apples| 1.94|\n",
            "|       3|  Bread| 3.07|\n",
            "|       1| Apples| 0.75|\n",
            "|       4|Bananas| 4.71|\n",
            "|       2|  Bread| 2.86|\n",
            "|       3|  Bread| 2.61|\n",
            "|       3| Apples| 0.64|\n",
            "|       1|Oranges|  1.6|\n",
            "|       1|  Bread|  1.5|\n",
            "+--------+-------+-----+\n",
            "\n"
          ]
        }
      ]
    },
    {
      "cell_type": "code",
      "source": [
        "df1.select(['product','store_id']).filter(df1['Price']>1).show()"
      ],
      "metadata": {
        "colab": {
          "base_uri": "https://localhost:8080/"
        },
        "id": "i2mwHougQS1Q",
        "outputId": "55ee5b02-d5bd-455f-8f28-c9784e21708c"
      },
      "execution_count": 10,
      "outputs": [
        {
          "output_type": "stream",
          "name": "stdout",
          "text": [
            "+-------+--------+\n",
            "|product|store_id|\n",
            "+-------+--------+\n",
            "| Apples|       4|\n",
            "| Apples|       3|\n",
            "|Oranges|       4|\n",
            "| Apples|       1|\n",
            "|  Bread|       3|\n",
            "|Bananas|       4|\n",
            "|  Bread|       2|\n",
            "|  Bread|       3|\n",
            "|Oranges|       1|\n",
            "|  Bread|       1|\n",
            "+-------+--------+\n",
            "\n"
          ]
        }
      ]
    },
    {
      "cell_type": "code",
      "source": [
        "from pyspark.sql import functions as F\n",
        "\n",
        "df_grouped = df1.groupBy('store_id').agg(F.sum('price').alias('Sum'))\n",
        "df_grouped.show()"
      ],
      "metadata": {
        "colab": {
          "base_uri": "https://localhost:8080/"
        },
        "id": "j_t2WHeCRUp6",
        "outputId": "c8d22ff9-e27e-45ba-a4e7-83018efc52d6"
      },
      "execution_count": 19,
      "outputs": [
        {
          "output_type": "stream",
          "name": "stdout",
          "text": [
            "+--------+-----+\n",
            "|store_id|  Sum|\n",
            "+--------+-----+\n",
            "|       1| 5.79|\n",
            "|       3|  9.0|\n",
            "|       4|10.46|\n",
            "|       2| 2.86|\n",
            "+--------+-----+\n",
            "\n"
          ]
        }
      ]
    },
    {
      "cell_type": "code",
      "source": [
        "df=df1.groupBy(df1['store_id']).agg({'price':'sum'}).alias('Sum').sort(F.asc('store_id'))\n",
        "df.show()"
      ],
      "metadata": {
        "colab": {
          "base_uri": "https://localhost:8080/"
        },
        "id": "suQoWwJcQhuT",
        "outputId": "d186ad96-786d-41ba-cacb-d8d7f48b577c"
      },
      "execution_count": 28,
      "outputs": [
        {
          "output_type": "stream",
          "name": "stdout",
          "text": [
            "+--------+----------+\n",
            "|store_id|sum(price)|\n",
            "+--------+----------+\n",
            "|       1|      5.79|\n",
            "|       2|      2.86|\n",
            "|       3|       9.0|\n",
            "|       4|     10.46|\n",
            "+--------+----------+\n",
            "\n"
          ]
        }
      ]
    },
    {
      "cell_type": "code",
      "source": [],
      "metadata": {
        "id": "Fj7Hqmb0Qv1e"
      },
      "execution_count": null,
      "outputs": []
    }
  ]
}